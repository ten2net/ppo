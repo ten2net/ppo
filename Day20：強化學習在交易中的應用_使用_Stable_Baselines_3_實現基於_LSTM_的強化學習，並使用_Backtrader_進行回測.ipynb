{
  "nbformat": 4,
  "nbformat_minor": 0,
  "metadata": {
    "colab": {
      "provenance": [],
      "gpuType": "T4",
      "include_colab_link": true
    },
    "kernelspec": {
      "name": "python3",
      "display_name": "Python 3"
    },
    "language_info": {
      "name": "python"
    },
    "accelerator": "GPU"
  },
  "cells": [
    {
      "cell_type": "markdown",
      "metadata": {
        "id": "view-in-github",
        "colab_type": "text"
      },
      "source": [
        "<a href=\"https://colab.research.google.com/github/ten2net/ppo/blob/main/Day20%EF%BC%9A%E5%BC%B7%E5%8C%96%E5%AD%B8%E7%BF%92%E5%9C%A8%E4%BA%A4%E6%98%93%E4%B8%AD%E7%9A%84%E6%87%89%E7%94%A8_%E4%BD%BF%E7%94%A8_Stable_Baselines_3_%E5%AF%A6%E7%8F%BE%E5%9F%BA%E6%96%BC_LSTM_%E7%9A%84%E5%BC%B7%E5%8C%96%E5%AD%B8%E7%BF%92%EF%BC%8C%E4%B8%A6%E4%BD%BF%E7%94%A8_Backtrader_%E9%80%B2%E8%A1%8C%E5%9B%9E%E6%B8%AC.ipynb\" target=\"_parent\"><img src=\"https://colab.research.google.com/assets/colab-badge.svg\" alt=\"Open In Colab\"/></a>"
      ]
    },
    {
      "cell_type": "markdown",
      "source": [
        "在上次的教學中我們使用了 `Stable baseline3`來搭建我們的 RL agent 並將買賣過程放回 backtrader 上進行視覺化。在本教學中，我們將進一步深入強化學習在金融交易中的應用。我們將使用 Stable Baselines 3 實現一個基於 LSTM（長短期記憶網絡）的強化學習代理，並使用 Backtrader 進行回測。我們的代理將在每個時間步觀察過去 15 天的市場數據，以做出更明智的交易決策。[今日 Colab](https://colab.research.google.com/drive/19PpIVOGlSwR10feAuvINQ9x3-5WSTQjl?usp=sharing)\n",
        "\n",
        "---\n",
        "\n",
        "### **一、引言**\n",
        "\n",
        "#### **1. 為什麼使用 LSTM？**\n",
        "\n",
        "- **時間序列特性**：股票價格具有時間相關性，過去的價格信息對未來的價格有影響。\n",
        "- **LSTM 的優勢**：LSTM 能夠捕捉長期和短期的時間依賴性，適合處理時間序列數據。\n",
        "- **改進決策能力**：通過觀察過去 15 天的數據，代理可以學習市場的趨勢和模式，從而提升交易策略的效果。\n",
        "![https://ithelp.ithome.com.tw/upload/images/20241005/201205495RQwsaCiO2.png](https://ithelp.ithome.com.tw/upload/images/20241005/201205495RQwsaCiO2.png)\n",
        "---\n",
        "\n",
        "### **二、環境設置**\n",
        "\n",
        "#### **1. 安裝必要的庫**\n",
        "\n",
        "在 Google Colab 中，我們需要安裝以下庫："
      ],
      "metadata": {
        "id": "Um537YWuLQWX"
      }
    },
    {
      "cell_type": "code",
      "source": [
        "!pip install stable-baselines3\n",
        "!pip install gymnasium\n",
        "!pip install gymnasium[classic_control]\n",
        "!pip install backtrader\n",
        "!pip install yfinance\n",
        "!pip install matplotlib"
      ],
      "metadata": {
        "colab": {
          "base_uri": "https://localhost:8080/"
        },
        "id": "-_STX0shLSzc",
        "outputId": "bf33762b-f320-4e02-b816-edd5326a65b5"
      },
      "execution_count": null,
      "outputs": [
        {
          "output_type": "stream",
          "name": "stdout",
          "text": [
            "Requirement already satisfied: stable-baselines3 in /usr/local/lib/python3.10/dist-packages (2.3.2)\n",
            "Requirement already satisfied: gymnasium<0.30,>=0.28.1 in /usr/local/lib/python3.10/dist-packages (from stable-baselines3) (0.29.1)\n",
            "Requirement already satisfied: numpy>=1.20 in /usr/local/lib/python3.10/dist-packages (from stable-baselines3) (1.26.4)\n",
            "Requirement already satisfied: torch>=1.13 in /usr/local/lib/python3.10/dist-packages (from stable-baselines3) (2.4.1+cu121)\n",
            "Requirement already satisfied: cloudpickle in /usr/local/lib/python3.10/dist-packages (from stable-baselines3) (2.2.1)\n",
            "Requirement already satisfied: pandas in /usr/local/lib/python3.10/dist-packages (from stable-baselines3) (2.2.2)\n",
            "Requirement already satisfied: matplotlib in /usr/local/lib/python3.10/dist-packages (from stable-baselines3) (3.7.1)\n",
            "Requirement already satisfied: typing-extensions>=4.3.0 in /usr/local/lib/python3.10/dist-packages (from gymnasium<0.30,>=0.28.1->stable-baselines3) (4.12.2)\n",
            "Requirement already satisfied: farama-notifications>=0.0.1 in /usr/local/lib/python3.10/dist-packages (from gymnasium<0.30,>=0.28.1->stable-baselines3) (0.0.4)\n",
            "Requirement already satisfied: filelock in /usr/local/lib/python3.10/dist-packages (from torch>=1.13->stable-baselines3) (3.16.1)\n",
            "Requirement already satisfied: sympy in /usr/local/lib/python3.10/dist-packages (from torch>=1.13->stable-baselines3) (1.13.3)\n",
            "Requirement already satisfied: networkx in /usr/local/lib/python3.10/dist-packages (from torch>=1.13->stable-baselines3) (3.3)\n",
            "Requirement already satisfied: jinja2 in /usr/local/lib/python3.10/dist-packages (from torch>=1.13->stable-baselines3) (3.1.4)\n",
            "Requirement already satisfied: fsspec in /usr/local/lib/python3.10/dist-packages (from torch>=1.13->stable-baselines3) (2024.6.1)\n",
            "Requirement already satisfied: contourpy>=1.0.1 in /usr/local/lib/python3.10/dist-packages (from matplotlib->stable-baselines3) (1.3.0)\n",
            "Requirement already satisfied: cycler>=0.10 in /usr/local/lib/python3.10/dist-packages (from matplotlib->stable-baselines3) (0.12.1)\n",
            "Requirement already satisfied: fonttools>=4.22.0 in /usr/local/lib/python3.10/dist-packages (from matplotlib->stable-baselines3) (4.54.1)\n",
            "Requirement already satisfied: kiwisolver>=1.0.1 in /usr/local/lib/python3.10/dist-packages (from matplotlib->stable-baselines3) (1.4.7)\n",
            "Requirement already satisfied: packaging>=20.0 in /usr/local/lib/python3.10/dist-packages (from matplotlib->stable-baselines3) (24.1)\n",
            "Requirement already satisfied: pillow>=6.2.0 in /usr/local/lib/python3.10/dist-packages (from matplotlib->stable-baselines3) (10.4.0)\n",
            "Requirement already satisfied: pyparsing>=2.3.1 in /usr/local/lib/python3.10/dist-packages (from matplotlib->stable-baselines3) (3.1.4)\n",
            "Requirement already satisfied: python-dateutil>=2.7 in /usr/local/lib/python3.10/dist-packages (from matplotlib->stable-baselines3) (2.8.2)\n",
            "Requirement already satisfied: pytz>=2020.1 in /usr/local/lib/python3.10/dist-packages (from pandas->stable-baselines3) (2024.2)\n",
            "Requirement already satisfied: tzdata>=2022.7 in /usr/local/lib/python3.10/dist-packages (from pandas->stable-baselines3) (2024.2)\n",
            "Requirement already satisfied: six>=1.5 in /usr/local/lib/python3.10/dist-packages (from python-dateutil>=2.7->matplotlib->stable-baselines3) (1.16.0)\n",
            "Requirement already satisfied: MarkupSafe>=2.0 in /usr/local/lib/python3.10/dist-packages (from jinja2->torch>=1.13->stable-baselines3) (2.1.5)\n",
            "Requirement already satisfied: mpmath<1.4,>=1.1.0 in /usr/local/lib/python3.10/dist-packages (from sympy->torch>=1.13->stable-baselines3) (1.3.0)\n",
            "Requirement already satisfied: gymnasium in /usr/local/lib/python3.10/dist-packages (0.29.1)\n",
            "Requirement already satisfied: numpy>=1.21.0 in /usr/local/lib/python3.10/dist-packages (from gymnasium) (1.26.4)\n",
            "Requirement already satisfied: cloudpickle>=1.2.0 in /usr/local/lib/python3.10/dist-packages (from gymnasium) (2.2.1)\n",
            "Requirement already satisfied: typing-extensions>=4.3.0 in /usr/local/lib/python3.10/dist-packages (from gymnasium) (4.12.2)\n",
            "Requirement already satisfied: farama-notifications>=0.0.1 in /usr/local/lib/python3.10/dist-packages (from gymnasium) (0.0.4)\n",
            "Requirement already satisfied: gymnasium[classic_control] in /usr/local/lib/python3.10/dist-packages (0.29.1)\n",
            "Requirement already satisfied: numpy>=1.21.0 in /usr/local/lib/python3.10/dist-packages (from gymnasium[classic_control]) (1.26.4)\n",
            "Requirement already satisfied: cloudpickle>=1.2.0 in /usr/local/lib/python3.10/dist-packages (from gymnasium[classic_control]) (2.2.1)\n",
            "Requirement already satisfied: typing-extensions>=4.3.0 in /usr/local/lib/python3.10/dist-packages (from gymnasium[classic_control]) (4.12.2)\n",
            "Requirement already satisfied: farama-notifications>=0.0.1 in /usr/local/lib/python3.10/dist-packages (from gymnasium[classic_control]) (0.0.4)\n",
            "Requirement already satisfied: pygame>=2.1.3 in /usr/local/lib/python3.10/dist-packages (from gymnasium[classic_control]) (2.6.1)\n",
            "Requirement already satisfied: backtrader in /usr/local/lib/python3.10/dist-packages (1.9.78.123)\n",
            "Requirement already satisfied: yfinance in /usr/local/lib/python3.10/dist-packages (0.2.44)\n",
            "Requirement already satisfied: pandas>=1.3.0 in /usr/local/lib/python3.10/dist-packages (from yfinance) (2.2.2)\n",
            "Requirement already satisfied: numpy>=1.16.5 in /usr/local/lib/python3.10/dist-packages (from yfinance) (1.26.4)\n",
            "Requirement already satisfied: requests>=2.31 in /usr/local/lib/python3.10/dist-packages (from yfinance) (2.32.3)\n",
            "Requirement already satisfied: multitasking>=0.0.7 in /usr/local/lib/python3.10/dist-packages (from yfinance) (0.0.11)\n",
            "Requirement already satisfied: lxml>=4.9.1 in /usr/local/lib/python3.10/dist-packages (from yfinance) (4.9.4)\n",
            "Requirement already satisfied: platformdirs>=2.0.0 in /usr/local/lib/python3.10/dist-packages (from yfinance) (4.3.6)\n",
            "Requirement already satisfied: pytz>=2022.5 in /usr/local/lib/python3.10/dist-packages (from yfinance) (2024.2)\n",
            "Requirement already satisfied: frozendict>=2.3.4 in /usr/local/lib/python3.10/dist-packages (from yfinance) (2.4.4)\n",
            "Requirement already satisfied: peewee>=3.16.2 in /usr/local/lib/python3.10/dist-packages (from yfinance) (3.17.6)\n",
            "Requirement already satisfied: beautifulsoup4>=4.11.1 in /usr/local/lib/python3.10/dist-packages (from yfinance) (4.12.3)\n",
            "Requirement already satisfied: html5lib>=1.1 in /usr/local/lib/python3.10/dist-packages (from yfinance) (1.1)\n",
            "Requirement already satisfied: soupsieve>1.2 in /usr/local/lib/python3.10/dist-packages (from beautifulsoup4>=4.11.1->yfinance) (2.6)\n",
            "Requirement already satisfied: six>=1.9 in /usr/local/lib/python3.10/dist-packages (from html5lib>=1.1->yfinance) (1.16.0)\n",
            "Requirement already satisfied: webencodings in /usr/local/lib/python3.10/dist-packages (from html5lib>=1.1->yfinance) (0.5.1)\n",
            "Requirement already satisfied: python-dateutil>=2.8.2 in /usr/local/lib/python3.10/dist-packages (from pandas>=1.3.0->yfinance) (2.8.2)\n",
            "Requirement already satisfied: tzdata>=2022.7 in /usr/local/lib/python3.10/dist-packages (from pandas>=1.3.0->yfinance) (2024.2)\n",
            "Requirement already satisfied: charset-normalizer<4,>=2 in /usr/local/lib/python3.10/dist-packages (from requests>=2.31->yfinance) (3.3.2)\n",
            "Requirement already satisfied: idna<4,>=2.5 in /usr/local/lib/python3.10/dist-packages (from requests>=2.31->yfinance) (3.10)\n",
            "Requirement already satisfied: urllib3<3,>=1.21.1 in /usr/local/lib/python3.10/dist-packages (from requests>=2.31->yfinance) (2.2.3)\n",
            "Requirement already satisfied: certifi>=2017.4.17 in /usr/local/lib/python3.10/dist-packages (from requests>=2.31->yfinance) (2024.8.30)\n",
            "Requirement already satisfied: matplotlib in /usr/local/lib/python3.10/dist-packages (3.7.1)\n",
            "Requirement already satisfied: contourpy>=1.0.1 in /usr/local/lib/python3.10/dist-packages (from matplotlib) (1.3.0)\n",
            "Requirement already satisfied: cycler>=0.10 in /usr/local/lib/python3.10/dist-packages (from matplotlib) (0.12.1)\n",
            "Requirement already satisfied: fonttools>=4.22.0 in /usr/local/lib/python3.10/dist-packages (from matplotlib) (4.54.1)\n",
            "Requirement already satisfied: kiwisolver>=1.0.1 in /usr/local/lib/python3.10/dist-packages (from matplotlib) (1.4.7)\n",
            "Requirement already satisfied: numpy>=1.20 in /usr/local/lib/python3.10/dist-packages (from matplotlib) (1.26.4)\n",
            "Requirement already satisfied: packaging>=20.0 in /usr/local/lib/python3.10/dist-packages (from matplotlib) (24.1)\n",
            "Requirement already satisfied: pillow>=6.2.0 in /usr/local/lib/python3.10/dist-packages (from matplotlib) (10.4.0)\n",
            "Requirement already satisfied: pyparsing>=2.3.1 in /usr/local/lib/python3.10/dist-packages (from matplotlib) (3.1.4)\n",
            "Requirement already satisfied: python-dateutil>=2.7 in /usr/local/lib/python3.10/dist-packages (from matplotlib) (2.8.2)\n",
            "Requirement already satisfied: six>=1.5 in /usr/local/lib/python3.10/dist-packages (from python-dateutil>=2.7->matplotlib) (1.16.0)\n"
          ]
        }
      ]
    },
    {
      "cell_type": "markdown",
      "source": [
        "#### **2. 導入庫**\n"
      ],
      "metadata": {
        "id": "QsBUT1pALWNC"
      }
    },
    {
      "cell_type": "code",
      "source": [
        "import pandas as pd\n",
        "import numpy as np\n",
        "import matplotlib.pyplot as plt\n",
        "import yfinance as yf\n",
        "import backtrader as bt\n",
        "from stable_baselines3 import PPO\n",
        "from stable_baselines3.common.vec_env import DummyVecEnv\n",
        "from stable_baselines3.common import env_checker\n",
        "from stable_baselines3.common.policies import ActorCriticCnnPolicy, ActorCriticPolicy\n",
        "from stable_baselines3.common.torch_layers import BaseFeaturesExtractor\n",
        "import gymnasium as gym\n",
        "from gymnasium import spaces\n",
        "import torch\n",
        "import torch.nn as nn"
      ],
      "metadata": {
        "id": "M2jWVesfLZy7"
      },
      "execution_count": null,
      "outputs": []
    },
    {
      "cell_type": "markdown",
      "source": [
        "### **三、數據準備**\n",
        "\n",
        "#### **1. 獲取股票數據**\n",
        "\n",
        "我們將使用 `yfinance` 下載蘋果公司（AAPL）的歷史數據。"
      ],
      "metadata": {
        "id": "IaiLx-gELgME"
      }
    },
    {
      "cell_type": "code",
      "source": [
        "data = yf.download('AAPL', start='2015-01-01', end='2021-01-01')\n",
        "data.reset_index(inplace=True)\n",
        "data['Date'] = pd.to_datetime(data['Date'])  # 確保 Date 列為 datetime 類型\n",
        "data = data[['Date', 'Open', 'High', 'Low', 'Close', 'Volume']]\n",
        "data.set_index('Date', inplace=True)"
      ],
      "metadata": {
        "colab": {
          "base_uri": "https://localhost:8080/"
        },
        "id": "3Q59_ZzOLjZI",
        "outputId": "b4687f8e-0806-4cb3-a065-3ebfe0ba6c12"
      },
      "execution_count": null,
      "outputs": [
        {
          "output_type": "stream",
          "name": "stderr",
          "text": [
            "/usr/local/lib/python3.10/dist-packages/ipykernel/ipkernel.py:283: DeprecationWarning: `should_run_async` will not call `transform_cell` automatically in the future. Please pass the result to `transformed_cell` argument and any exception that happen during thetransform in `preprocessing_exc_tuple` in IPython 7.17 and above.\n",
            "  and should_run_async(code)\n",
            "\r[*********************100%***********************]  1 of 1 completed\n"
          ]
        }
      ]
    },
    {
      "cell_type": "markdown",
      "source": [
        "#### **2. 數據預處理**\n"
      ],
      "metadata": {
        "id": "_BFJVWSSLm_u"
      }
    },
    {
      "cell_type": "code",
      "source": [
        "data['Open'] = data['Open'].astype('float32')\n",
        "data['High'] = data['High'].astype('float32')\n",
        "data['Low'] = data['Low'].astype('float32')\n",
        "data['Close'] = data['Close'].astype('float32')\n",
        "data['Volume'] = data['Volume'].astype('float32')"
      ],
      "metadata": {
        "colab": {
          "base_uri": "https://localhost:8080/"
        },
        "id": "fvP1oXZkLqIk",
        "outputId": "7434639c-ff04-498d-a771-2ece2eb2cfae"
      },
      "execution_count": null,
      "outputs": [
        {
          "output_type": "stream",
          "name": "stderr",
          "text": [
            "/usr/local/lib/python3.10/dist-packages/ipykernel/ipkernel.py:283: DeprecationWarning: `should_run_async` will not call `transform_cell` automatically in the future. Please pass the result to `transformed_cell` argument and any exception that happen during thetransform in `preprocessing_exc_tuple` in IPython 7.17 and above.\n",
            "  and should_run_async(code)\n",
            "<ipython-input-13-2b2fe5140f14>:1: SettingWithCopyWarning: \n",
            "A value is trying to be set on a copy of a slice from a DataFrame.\n",
            "Try using .loc[row_indexer,col_indexer] = value instead\n",
            "\n",
            "See the caveats in the documentation: https://pandas.pydata.org/pandas-docs/stable/user_guide/indexing.html#returning-a-view-versus-a-copy\n",
            "  data['Open'] = data['Open'].astype('float32')\n",
            "<ipython-input-13-2b2fe5140f14>:2: SettingWithCopyWarning: \n",
            "A value is trying to be set on a copy of a slice from a DataFrame.\n",
            "Try using .loc[row_indexer,col_indexer] = value instead\n",
            "\n",
            "See the caveats in the documentation: https://pandas.pydata.org/pandas-docs/stable/user_guide/indexing.html#returning-a-view-versus-a-copy\n",
            "  data['High'] = data['High'].astype('float32')\n",
            "<ipython-input-13-2b2fe5140f14>:3: SettingWithCopyWarning: \n",
            "A value is trying to be set on a copy of a slice from a DataFrame.\n",
            "Try using .loc[row_indexer,col_indexer] = value instead\n",
            "\n",
            "See the caveats in the documentation: https://pandas.pydata.org/pandas-docs/stable/user_guide/indexing.html#returning-a-view-versus-a-copy\n",
            "  data['Low'] = data['Low'].astype('float32')\n",
            "<ipython-input-13-2b2fe5140f14>:4: SettingWithCopyWarning: \n",
            "A value is trying to be set on a copy of a slice from a DataFrame.\n",
            "Try using .loc[row_indexer,col_indexer] = value instead\n",
            "\n",
            "See the caveats in the documentation: https://pandas.pydata.org/pandas-docs/stable/user_guide/indexing.html#returning-a-view-versus-a-copy\n",
            "  data['Close'] = data['Close'].astype('float32')\n",
            "<ipython-input-13-2b2fe5140f14>:5: SettingWithCopyWarning: \n",
            "A value is trying to be set on a copy of a slice from a DataFrame.\n",
            "Try using .loc[row_indexer,col_indexer] = value instead\n",
            "\n",
            "See the caveats in the documentation: https://pandas.pydata.org/pandas-docs/stable/user_guide/indexing.html#returning-a-view-versus-a-copy\n",
            "  data['Volume'] = data['Volume'].astype('float32')\n"
          ]
        }
      ]
    },
    {
      "cell_type": "markdown",
      "source": [
        "### **四、定義交易環境**\n",
        "\n",
        "在這一部分，我們將修改交易環境，使代理在每個時間步能夠觀察過去 15 天的數據。\n",
        "\n",
        "#### **1. 環境的結構**\n",
        "\n",
        "- **觀測空間（Observation Space）**：包含過去 15 天的市場數據，每天有 5 個特徵（開、高、低、收、量），因此觀測值的形狀為 `(15, 5)`。\n",
        "- **行動空間（Action Space）**：代理可以採取的行動，包括買入、賣出和持有。\n",
        "- **環境狀態**：追蹤代理的持倉、現金餘額和資產淨值。\n",
        "- **獎勵函數**：根據代理的資產淨值變化計算獎勵，鼓勵代理增加資產淨值。\n",
        "\n",
        "#### **2. 環境的實作**"
      ],
      "metadata": {
        "id": "6ODDJjuHLtee"
      }
    },
    {
      "cell_type": "code",
      "source": [
        "class TradingEnv(gym.Env):\n",
        "    \"\"\"自訂的交易環境，用於強化學習模型訓練，代理觀察過去 15 天的數據\"\"\"\n",
        "\n",
        "    def __init__(self, data, window_size=15, cash=10000, commission=0.001):\n",
        "        super(TradingEnv, self).__init__()\n",
        "        self.data = data.reset_index()\n",
        "        self.cash = cash  # 初始現金\n",
        "        self.initial_cash = cash  # 紀錄初始現金\n",
        "        self.commission = commission  # 交易手續費\n",
        "        self.window_size = window_size  # 觀察窗口大小\n",
        "        self.current_step = self.window_size  # 開始位置\n",
        "\n",
        "        # 定義觀測空間和行動空間\n",
        "        self.observation_space = spaces.Box(\n",
        "            low=-np.inf, high=np.inf, shape=(self.window_size, 5), dtype=np.float32\n",
        "        )\n",
        "        self.action_space = spaces.Discrete(3)  # 0: 持有, 1: 買入, 2: 賣出\n",
        "\n",
        "        # 初始化帳戶資訊\n",
        "        self.position = 0  # 持有的股票數量\n",
        "        self.net_worth = self.cash  # 資產淨值\n",
        "        self.prev_net_worth = self.cash  # 前一步的資產淨值\n",
        "\n",
        "        # 紀錄交易訊號\n",
        "        self.trades = []\n",
        "\n",
        "    def _get_obs(self):\n",
        "        \"\"\"獲取當前的觀測值\"\"\"\n",
        "        obs = self.data.loc[self.current_step - self.window_size:self.current_step - 1, ['Open', 'High', 'Low', 'Close', 'Volume']].values\n",
        "        return obs\n",
        "\n",
        "    def reset(self, *, seed=None, options=None):\n",
        "        \"\"\"重置環境到初始狀態\"\"\"\n",
        "        super().reset(seed=seed)\n",
        "        self.current_step = self.window_size\n",
        "        self.position = 0\n",
        "        self.cash = self.initial_cash\n",
        "        self.net_worth = self.cash\n",
        "        self.prev_net_worth = self.cash\n",
        "        self.trades = []  # 重置交易紀錄\n",
        "        obs = self._get_obs()\n",
        "        info = {}\n",
        "        return obs, info\n",
        "\n",
        "    def step(self, action):\n",
        "        \"\"\"執行一個行動，並返回新的狀態和獎勵\"\"\"\n",
        "        current_price = self.data.loc[self.current_step, 'Close']\n",
        "\n",
        "        # 記錄交易訊號\n",
        "        date = self.data.loc[self.current_step, 'Date']\n",
        "        self.trades.append({'Date': date, 'Action': action})\n",
        "\n",
        "        # 計算交易手續費\n",
        "        commission = 0\n",
        "\n",
        "        if action == 1:  # 買入\n",
        "            # 計算可買入的最大股數\n",
        "            max_shares = int(self.cash / (current_price * (1 + self.commission)))\n",
        "            if max_shares > 0:\n",
        "                # 更新帳戶餘額和持倉\n",
        "                cost = max_shares * current_price * (1 + self.commission)\n",
        "                self.cash -= cost\n",
        "                self.position += max_shares\n",
        "                commission = cost * self.commission\n",
        "        elif action == 2:  # 賣出\n",
        "            if self.position > 0:\n",
        "                # 更新帳戶餘額和持倉\n",
        "                revenue = self.position * current_price * (1 - self.commission)\n",
        "                self.cash += revenue\n",
        "                commission = self.position * current_price * self.commission\n",
        "                self.position = 0\n",
        "        # action == 0 表示持有，不執行任何操作\n",
        "\n",
        "        self.current_step += 1\n",
        "\n",
        "        # 更新資產淨值\n",
        "        self.net_worth = self.cash + self.position * current_price\n",
        "\n",
        "        # 計算獎勵\n",
        "        reward = self.net_worth - self.prev_net_worth - commission\n",
        "        self.prev_net_worth = self.net_worth\n",
        "\n",
        "        # 判斷是否終止\n",
        "        if self.current_step >= len(self.data):\n",
        "            terminated = True\n",
        "        else:\n",
        "            terminated = False\n",
        "        truncated = False\n",
        "\n",
        "        obs = self._get_obs()\n",
        "        info = {}\n",
        "\n",
        "        return obs, reward, terminated, truncated, info\n",
        "\n",
        "    def render(self):\n",
        "        \"\"\"渲染環境（此處未實作）\"\"\"\n",
        "        pass"
      ],
      "metadata": {
        "id": "VQ0Srg9PLxFD"
      },
      "execution_count": null,
      "outputs": []
    },
    {
      "cell_type": "markdown",
      "source": [
        "#### **3. 實作內容說明**\n",
        "\n",
        "- **`window_size`**：新增一個參數，指定觀察窗口的大小，這裡設定為 15。\n",
        "- **`observation_space`**：觀測空間的形狀變為 `(window_size, 5)`。\n",
        "- **`_get_obs` 方法**：\n",
        "  - 返回過去 15 天的市場數據作為觀測值。\n",
        "- **`current_step`**：\n",
        "  - 初始化為 `window_size`，以確保有足夠的歷史數據。\n",
        "- **`reset` 和 `step` 方法**：\n",
        "  - 相應地調整 `current_step`，確保索引不超出數據範圍。"
      ],
      "metadata": {
        "id": "UF1EmqNIL2OC"
      }
    },
    {
      "cell_type": "markdown",
      "source": [
        "### **五、定義自訂的特徵提取器**\n",
        "\n",
        "為了使模型能夠處理我們的高維度觀測值（`(15, 5)`），我們需要自訂一個特徵提取器，使用 LSTM 處理時間序列數據。\n"
      ],
      "metadata": {
        "id": "SBlCqo62L5t8"
      }
    },
    {
      "cell_type": "code",
      "source": [
        "class CustomLSTMFeatureExtractor(BaseFeaturesExtractor):\n",
        "    \"\"\"\n",
        "    自訂的特徵提取器，使用 LSTM 處理時間序列數據\n",
        "    \"\"\"\n",
        "\n",
        "    def __init__(self, observation_space: spaces.Box, features_dim: int = 128):\n",
        "        super(CustomLSTMFeatureExtractor, self).__init__(observation_space, features_dim)\n",
        "        self.lstm = nn.LSTM(input_size=5, hidden_size=features_dim, batch_first=True)\n",
        "\n",
        "    def forward(self, observations: torch.Tensor) -> torch.Tensor:\n",
        "        # observations shape: (batch_size, window_size, 5)\n",
        "        lstm_output, (h_n, c_n) = self.lstm(observations)\n",
        "        # 我們取最後一個時間步的輸出作為特徵\n",
        "        return h_n[-1]"
      ],
      "metadata": {
        "id": "hrFBBMdpL8Wy"
      },
      "execution_count": null,
      "outputs": []
    },
    {
      "cell_type": "markdown",
      "source": [
        "- **說明**：\n",
        "  - 我們使用 `nn.LSTM` 處理觀測值。\n",
        "  - 將輸出的隱藏狀態作為特徵，用於後續的策略網絡。\n",
        "\n",
        "---\n",
        "\n",
        "### **六、訓練強化學習模型**\n",
        "\n",
        "#### **1. 創建環境實例**"
      ],
      "metadata": {
        "id": "FnDSvqMBL__T"
      }
    },
    {
      "cell_type": "code",
      "source": [
        "env = TradingEnv(data)\n"
      ],
      "metadata": {
        "id": "O7Ma61PXMC1Y"
      },
      "execution_count": null,
      "outputs": []
    },
    {
      "cell_type": "markdown",
      "source": [
        "#### **2. 檢查環境**\n"
      ],
      "metadata": {
        "id": "Ch3HT4f1MF2-"
      }
    },
    {
      "cell_type": "code",
      "source": [
        "env_checker.check_env(env)\n"
      ],
      "metadata": {
        "colab": {
          "base_uri": "https://localhost:8080/"
        },
        "id": "sZitlGWZMIlH",
        "outputId": "768734ae-2d76-42ed-baa8-62f661194ebd"
      },
      "execution_count": null,
      "outputs": [
        {
          "output_type": "stream",
          "name": "stderr",
          "text": [
            "/usr/local/lib/python3.10/dist-packages/ipykernel/ipkernel.py:283: DeprecationWarning: `should_run_async` will not call `transform_cell` automatically in the future. Please pass the result to `transformed_cell` argument and any exception that happen during thetransform in `preprocessing_exc_tuple` in IPython 7.17 and above.\n",
            "  and should_run_async(code)\n",
            "/usr/local/lib/python3.10/dist-packages/stable_baselines3/common/env_checker.py:263: UserWarning: Your observation  has an unconventional shape (neither an image, nor a 1D vector). We recommend you to flatten the observation to have only a 1D vector or use a custom policy to properly process the data.\n",
            "  warnings.warn(\n"
          ]
        }
      ]
    },
    {
      "cell_type": "markdown",
      "source": [
        "#### **3. 包裝環境**\n"
      ],
      "metadata": {
        "id": "GmsPfA2oMK42"
      }
    },
    {
      "cell_type": "code",
      "source": [
        "env = DummyVecEnv([lambda: env])\n"
      ],
      "metadata": {
        "id": "g-BL5ltvMNRb"
      },
      "execution_count": null,
      "outputs": []
    },
    {
      "cell_type": "markdown",
      "source": [
        "#### **4. 定義政策網絡**\n",
        "\n",
        "我們需要定義一個自訂的政策網絡，使用我們的特徵提取器。"
      ],
      "metadata": {
        "id": "klrsq-KYMP0y"
      }
    },
    {
      "cell_type": "code",
      "source": [
        "policy_kwargs = dict(\n",
        "    features_extractor_class=CustomLSTMFeatureExtractor,\n",
        "    features_extractor_kwargs=dict(features_dim=128),\n",
        ")"
      ],
      "metadata": {
        "id": "qjWmZXEGMZjO"
      },
      "execution_count": null,
      "outputs": []
    },
    {
      "cell_type": "markdown",
      "source": [
        "#### **5. 訓練模型**\n"
      ],
      "metadata": {
        "id": "SfXQgKPwMbtd"
      }
    },
    {
      "cell_type": "code",
      "source": [
        "model = PPO('MlpPolicy', env, policy_kwargs=policy_kwargs, verbose=1)\n",
        "model.learn(total_timesteps=10000)"
      ],
      "metadata": {
        "colab": {
          "base_uri": "https://localhost:8080/"
        },
        "id": "TNryfTB6Me46",
        "outputId": "b60188af-a765-4465-fb0b-b09d11b406d3"
      },
      "execution_count": null,
      "outputs": [
        {
          "output_type": "stream",
          "name": "stdout",
          "text": [
            "Using cuda device\n",
            "-----------------------------\n",
            "| time/              |      |\n",
            "|    fps             | 179  |\n",
            "|    iterations      | 1    |\n",
            "|    time_elapsed    | 11   |\n",
            "|    total_timesteps | 2048 |\n",
            "-----------------------------\n",
            "----------------------------------------\n",
            "| time/                   |            |\n",
            "|    fps                  | 170        |\n",
            "|    iterations           | 2          |\n",
            "|    time_elapsed         | 24         |\n",
            "|    total_timesteps      | 4096       |\n",
            "| train/                  |            |\n",
            "|    approx_kl            | 0.01198451 |\n",
            "|    clip_fraction        | 0.027      |\n",
            "|    clip_range           | 0.2        |\n",
            "|    entropy_loss         | -1.09      |\n",
            "|    explained_variance   | 0          |\n",
            "|    learning_rate        | 0.0003     |\n",
            "|    loss                 | 7.09e+04   |\n",
            "|    n_updates            | 10         |\n",
            "|    policy_gradient_loss | -0.00462   |\n",
            "|    value_loss           | 1.03e+05   |\n",
            "----------------------------------------\n",
            "------------------------------------------\n",
            "| time/                   |              |\n",
            "|    fps                  | 192          |\n",
            "|    iterations           | 3            |\n",
            "|    time_elapsed         | 31           |\n",
            "|    total_timesteps      | 6144         |\n",
            "| train/                  |              |\n",
            "|    approx_kl            | 0.0084708035 |\n",
            "|    clip_fraction        | 0.102        |\n",
            "|    clip_range           | 0.2          |\n",
            "|    entropy_loss         | -1.06        |\n",
            "|    explained_variance   | 0            |\n",
            "|    learning_rate        | 0.0003       |\n",
            "|    loss                 | 5.88e+04     |\n",
            "|    n_updates            | 20           |\n",
            "|    policy_gradient_loss | -0.000352    |\n",
            "|    value_loss           | 1.54e+05     |\n",
            "------------------------------------------\n",
            "-----------------------------------------\n",
            "| time/                   |             |\n",
            "|    fps                  | 211         |\n",
            "|    iterations           | 4           |\n",
            "|    time_elapsed         | 38          |\n",
            "|    total_timesteps      | 8192        |\n",
            "| train/                  |             |\n",
            "|    approx_kl            | 0.005860048 |\n",
            "|    clip_fraction        | 0.0983      |\n",
            "|    clip_range           | 0.2         |\n",
            "|    entropy_loss         | -1.06       |\n",
            "|    explained_variance   | 0           |\n",
            "|    learning_rate        | 0.0003      |\n",
            "|    loss                 | 1.97e+05    |\n",
            "|    n_updates            | 30          |\n",
            "|    policy_gradient_loss | 0.000646    |\n",
            "|    value_loss           | 3.46e+05    |\n",
            "-----------------------------------------\n",
            "------------------------------------------\n",
            "| time/                   |              |\n",
            "|    fps                  | 216          |\n",
            "|    iterations           | 5            |\n",
            "|    time_elapsed         | 47           |\n",
            "|    total_timesteps      | 10240        |\n",
            "| train/                  |              |\n",
            "|    approx_kl            | 0.0014498304 |\n",
            "|    clip_fraction        | 0            |\n",
            "|    clip_range           | 0.2          |\n",
            "|    entropy_loss         | -1.06        |\n",
            "|    explained_variance   | 0            |\n",
            "|    learning_rate        | 0.0003       |\n",
            "|    loss                 | 4.34e+04     |\n",
            "|    n_updates            | 40           |\n",
            "|    policy_gradient_loss | -0.000788    |\n",
            "|    value_loss           | 1.14e+05     |\n",
            "------------------------------------------\n"
          ]
        },
        {
          "output_type": "execute_result",
          "data": {
            "text/plain": [
              "<stable_baselines3.ppo.ppo.PPO at 0x7ed0f81ede70>"
            ]
          },
          "metadata": {},
          "execution_count": 21
        }
      ]
    },
    {
      "cell_type": "markdown",
      "source": [
        "### **七、測試模型並收集交易訊號**"
      ],
      "metadata": {
        "id": "Nfe_XTnfMioP"
      }
    },
    {
      "cell_type": "code",
      "source": [
        "env.envs[0].reset()\n",
        "for i in range(env.envs[0].window_size, len(data)):\n",
        "    obs = env.envs[0]._get_obs()\n",
        "    # 需要將觀測值轉換為 tensor 並添加 batch 維度\n",
        "    action, _states = model.predict(obs, deterministic=True)\n",
        "    obs, rewards, dones, truncated, info = env.envs[0].step(action)\n",
        "    if dones:\n",
        "        break"
      ],
      "metadata": {
        "id": "zjQvalr8MoEi"
      },
      "execution_count": null,
      "outputs": []
    },
    {
      "cell_type": "markdown",
      "source": [
        "- **說明**：\n",
        "  - 在測試階段，我們使用 `deterministic=True`，以獲取策略的確定性行動。\n",
        "  - 我們需要確保觀測值的格式正確，與訓練時一致。"
      ],
      "metadata": {
        "id": "9CHlM37VMsMS"
      }
    },
    {
      "cell_type": "markdown",
      "source": [
        "### **八、在 Backtrader 上顯示買賣點**\n",
        "​\n",
        "#### **1. 獲取交易紀錄並合併數據**"
      ],
      "metadata": {
        "id": "qBnNk2DUMw3g"
      }
    },
    {
      "cell_type": "code",
      "source": [
        "# 從環境中獲取交易紀錄\n",
        "trades = pd.DataFrame(env.envs[0].trades)\n",
        "\n",
        "# 將交易紀錄與原始數據合併\n",
        "data.reset_index(inplace=True)\n",
        "merged_data = pd.merge(data, trades, on='Date', how='left')\n",
        "merged_data['Action'].fillna(0, inplace=True)\n",
        "\n",
        "# 確保 Date 列為 datetime 類型\n",
        "merged_data['Date'] = pd.to_datetime(merged_data['Date'])"
      ],
      "metadata": {
        "colab": {
          "base_uri": "https://localhost:8080/"
        },
        "id": "DlRV2dMvMzry",
        "outputId": "1bd09418-e939-4e2a-8f22-0546eeb29824"
      },
      "execution_count": null,
      "outputs": [
        {
          "output_type": "stream",
          "name": "stderr",
          "text": [
            "/usr/local/lib/python3.10/dist-packages/ipykernel/ipkernel.py:283: DeprecationWarning: `should_run_async` will not call `transform_cell` automatically in the future. Please pass the result to `transformed_cell` argument and any exception that happen during thetransform in `preprocessing_exc_tuple` in IPython 7.17 and above.\n",
            "  and should_run_async(code)\n",
            "<ipython-input-23-d41afca6bfd7>:7: FutureWarning: A value is trying to be set on a copy of a DataFrame or Series through chained assignment using an inplace method.\n",
            "The behavior will change in pandas 3.0. This inplace method will never work because the intermediate object on which we are setting values always behaves as a copy.\n",
            "\n",
            "For example, when doing 'df[col].method(value, inplace=True)', try using 'df.method({col: value}, inplace=True)' or df[col] = df[col].method(value) instead, to perform the operation inplace on the original object.\n",
            "\n",
            "\n",
            "  merged_data['Action'].fillna(0, inplace=True)\n"
          ]
        }
      ]
    },
    {
      "cell_type": "markdown",
      "source": [
        "#### **2. 定義 Backtrader 策略**\n"
      ],
      "metadata": {
        "id": "qSuf9XsTM2w_"
      }
    },
    {
      "cell_type": "code",
      "source": [
        "class RLStrategy(bt.Strategy):\n",
        "    \"\"\"自訂的策略，用於在圖表上顯示買賣點\"\"\"\n",
        "\n",
        "    def __init__(self):\n",
        "        self.dataclose = self.datas[0].close\n",
        "\n",
        "    def next(self):\n",
        "        # 根據交易紀錄執行買賣\n",
        "        idx = len(self) - 1  # 當前索引\n",
        "        action = merged_data.loc[idx, 'Action']\n",
        "        if action == 1 and self.position.size == 0:\n",
        "            # 買入\n",
        "            self.buy(size=100)\n",
        "        elif action == 2 and self.position.size > 0:\n",
        "            # 賣出\n",
        "            self.sell(size=self.position.size)"
      ],
      "metadata": {
        "id": "0Q0CmaORM5zK"
      },
      "execution_count": null,
      "outputs": []
    },
    {
      "cell_type": "markdown",
      "source": [
        "#### **3. 設置 Backtrader 並進行回測**\n"
      ],
      "metadata": {
        "id": "51XdksZlM9E6"
      }
    },
    {
      "cell_type": "code",
      "source": [
        "cerebro = bt.Cerebro()\n",
        "# 在添加數據時，指定 datetime 列\n",
        "data_bt = bt.feeds.PandasData(\n",
        "    dataname=merged_data,\n",
        "    datetime='Date',\n",
        "    open='Open',\n",
        "    high='High',\n",
        "    low='Low',\n",
        "    close='Close',\n",
        "    volume='Volume',\n",
        "    openinterest=-1,\n",
        "    timeframe=bt.TimeFrame.Days\n",
        ")\n",
        "cerebro.adddata(data_bt)\n",
        "cerebro.addstrategy(RLStrategy)\n",
        "cerebro.broker.setcash(10000)\n",
        "cerebro.broker.setcommission(commission=0.001)\n",
        "\n",
        "print('初始資金: %.2f' % cerebro.broker.getvalue())\n",
        "cerebro.run()\n",
        "print('最終資金: %.2f' % cerebro.broker.getvalue())"
      ],
      "metadata": {
        "id": "rz3RBrSSNARK"
      },
      "execution_count": null,
      "outputs": []
    },
    {
      "cell_type": "markdown",
      "source": [
        "#### **4. 繪製圖表**\n"
      ],
      "metadata": {
        "id": "4dEYOZ7FNEq2"
      }
    },
    {
      "cell_type": "code",
      "source": [
        "# 繪製圖表\n",
        "%matplotlib inline\n",
        "plt.rcParams['figure.figsize'] = [20, 16]\n",
        "plt.rcParams.update({'font.size': 12})\n",
        "img = cerebro.plot(iplot = False)\n",
        "img[0][0].savefig('backtrader_ppo_lstm.png')"
      ],
      "metadata": {
        "id": "3wOwoWBjNP4X"
      },
      "execution_count": null,
      "outputs": []
    },
    {
      "cell_type": "markdown",
      "source": [
        "### **九、結果分析**\n",
        "\n",
        "通過 Backtrader 的圖表，我們可以看到模型在測試期間的買賣點，以及資產淨值的變化。這有助於我們直觀地了解模型的交易決策和績效。\n",
        "\n",
        "- **買賣點**：在圖表上，買入點和賣出點會以特定的標記顯示，方便我們分析代理的交易行為。\n",
        "- **資產淨值曲線**：觀察資產淨值的走勢，評估策略的收益和風險。\n",
        "\n",
        "---\n",
        "\n",
        "### **十、完整程式碼**\n",
        "\n",
        "以下是完整的程式碼，您可以直接在 Google Colab 上執行。\n"
      ],
      "metadata": {
        "id": "Mrc32EcDNUwa"
      }
    },
    {
      "cell_type": "code",
      "execution_count": null,
      "metadata": {
        "colab": {
          "base_uri": "https://localhost:8080/",
          "height": 1000
        },
        "id": "19FN0KeJEhOP",
        "outputId": "18ef4da7-0387-4825-ecd4-b8dc110137ee"
      },
      "outputs": [
        {
          "output_type": "stream",
          "name": "stdout",
          "text": [
            "Requirement already satisfied: stable-baselines3 in /usr/local/lib/python3.10/dist-packages (2.3.2)\n",
            "Requirement already satisfied: gymnasium<0.30,>=0.28.1 in /usr/local/lib/python3.10/dist-packages (from stable-baselines3) (0.29.1)\n",
            "Requirement already satisfied: numpy>=1.20 in /usr/local/lib/python3.10/dist-packages (from stable-baselines3) (1.26.4)\n",
            "Requirement already satisfied: torch>=1.13 in /usr/local/lib/python3.10/dist-packages (from stable-baselines3) (2.4.1+cu121)\n",
            "Requirement already satisfied: cloudpickle in /usr/local/lib/python3.10/dist-packages (from stable-baselines3) (2.2.1)\n",
            "Requirement already satisfied: pandas in /usr/local/lib/python3.10/dist-packages (from stable-baselines3) (2.2.2)\n",
            "Requirement already satisfied: matplotlib in /usr/local/lib/python3.10/dist-packages (from stable-baselines3) (3.7.1)\n",
            "Requirement already satisfied: typing-extensions>=4.3.0 in /usr/local/lib/python3.10/dist-packages (from gymnasium<0.30,>=0.28.1->stable-baselines3) (4.12.2)\n",
            "Requirement already satisfied: farama-notifications>=0.0.1 in /usr/local/lib/python3.10/dist-packages (from gymnasium<0.30,>=0.28.1->stable-baselines3) (0.0.4)\n",
            "Requirement already satisfied: filelock in /usr/local/lib/python3.10/dist-packages (from torch>=1.13->stable-baselines3) (3.16.1)\n",
            "Requirement already satisfied: sympy in /usr/local/lib/python3.10/dist-packages (from torch>=1.13->stable-baselines3) (1.13.3)\n",
            "Requirement already satisfied: networkx in /usr/local/lib/python3.10/dist-packages (from torch>=1.13->stable-baselines3) (3.3)\n",
            "Requirement already satisfied: jinja2 in /usr/local/lib/python3.10/dist-packages (from torch>=1.13->stable-baselines3) (3.1.4)\n",
            "Requirement already satisfied: fsspec in /usr/local/lib/python3.10/dist-packages (from torch>=1.13->stable-baselines3) (2024.6.1)\n",
            "Requirement already satisfied: contourpy>=1.0.1 in /usr/local/lib/python3.10/dist-packages (from matplotlib->stable-baselines3) (1.3.0)\n",
            "Requirement already satisfied: cycler>=0.10 in /usr/local/lib/python3.10/dist-packages (from matplotlib->stable-baselines3) (0.12.1)\n",
            "Requirement already satisfied: fonttools>=4.22.0 in /usr/local/lib/python3.10/dist-packages (from matplotlib->stable-baselines3) (4.54.1)\n",
            "Requirement already satisfied: kiwisolver>=1.0.1 in /usr/local/lib/python3.10/dist-packages (from matplotlib->stable-baselines3) (1.4.7)\n",
            "Requirement already satisfied: packaging>=20.0 in /usr/local/lib/python3.10/dist-packages (from matplotlib->stable-baselines3) (24.1)\n",
            "Requirement already satisfied: pillow>=6.2.0 in /usr/local/lib/python3.10/dist-packages (from matplotlib->stable-baselines3) (10.4.0)\n",
            "Requirement already satisfied: pyparsing>=2.3.1 in /usr/local/lib/python3.10/dist-packages (from matplotlib->stable-baselines3) (3.1.4)\n",
            "Requirement already satisfied: python-dateutil>=2.7 in /usr/local/lib/python3.10/dist-packages (from matplotlib->stable-baselines3) (2.8.2)\n",
            "Requirement already satisfied: pytz>=2020.1 in /usr/local/lib/python3.10/dist-packages (from pandas->stable-baselines3) (2024.2)\n",
            "Requirement already satisfied: tzdata>=2022.7 in /usr/local/lib/python3.10/dist-packages (from pandas->stable-baselines3) (2024.2)\n",
            "Requirement already satisfied: six>=1.5 in /usr/local/lib/python3.10/dist-packages (from python-dateutil>=2.7->matplotlib->stable-baselines3) (1.16.0)\n",
            "Requirement already satisfied: MarkupSafe>=2.0 in /usr/local/lib/python3.10/dist-packages (from jinja2->torch>=1.13->stable-baselines3) (2.1.5)\n",
            "Requirement already satisfied: mpmath<1.4,>=1.1.0 in /usr/local/lib/python3.10/dist-packages (from sympy->torch>=1.13->stable-baselines3) (1.3.0)\n",
            "Requirement already satisfied: gymnasium in /usr/local/lib/python3.10/dist-packages (0.29.1)\n",
            "Requirement already satisfied: numpy>=1.21.0 in /usr/local/lib/python3.10/dist-packages (from gymnasium) (1.26.4)\n",
            "Requirement already satisfied: cloudpickle>=1.2.0 in /usr/local/lib/python3.10/dist-packages (from gymnasium) (2.2.1)\n",
            "Requirement already satisfied: typing-extensions>=4.3.0 in /usr/local/lib/python3.10/dist-packages (from gymnasium) (4.12.2)\n",
            "Requirement already satisfied: farama-notifications>=0.0.1 in /usr/local/lib/python3.10/dist-packages (from gymnasium) (0.0.4)\n",
            "Requirement already satisfied: gymnasium[classic_control] in /usr/local/lib/python3.10/dist-packages (0.29.1)\n",
            "Requirement already satisfied: numpy>=1.21.0 in /usr/local/lib/python3.10/dist-packages (from gymnasium[classic_control]) (1.26.4)\n",
            "Requirement already satisfied: cloudpickle>=1.2.0 in /usr/local/lib/python3.10/dist-packages (from gymnasium[classic_control]) (2.2.1)\n",
            "Requirement already satisfied: typing-extensions>=4.3.0 in /usr/local/lib/python3.10/dist-packages (from gymnasium[classic_control]) (4.12.2)\n",
            "Requirement already satisfied: farama-notifications>=0.0.1 in /usr/local/lib/python3.10/dist-packages (from gymnasium[classic_control]) (0.0.4)\n",
            "Requirement already satisfied: pygame>=2.1.3 in /usr/local/lib/python3.10/dist-packages (from gymnasium[classic_control]) (2.6.1)\n",
            "Requirement already satisfied: backtrader in /usr/local/lib/python3.10/dist-packages (1.9.78.123)\n",
            "Requirement already satisfied: yfinance in /usr/local/lib/python3.10/dist-packages (0.2.44)\n",
            "Requirement already satisfied: pandas>=1.3.0 in /usr/local/lib/python3.10/dist-packages (from yfinance) (2.2.2)\n",
            "Requirement already satisfied: numpy>=1.16.5 in /usr/local/lib/python3.10/dist-packages (from yfinance) (1.26.4)\n",
            "Requirement already satisfied: requests>=2.31 in /usr/local/lib/python3.10/dist-packages (from yfinance) (2.32.3)\n",
            "Requirement already satisfied: multitasking>=0.0.7 in /usr/local/lib/python3.10/dist-packages (from yfinance) (0.0.11)\n",
            "Requirement already satisfied: lxml>=4.9.1 in /usr/local/lib/python3.10/dist-packages (from yfinance) (4.9.4)\n",
            "Requirement already satisfied: platformdirs>=2.0.0 in /usr/local/lib/python3.10/dist-packages (from yfinance) (4.3.6)\n",
            "Requirement already satisfied: pytz>=2022.5 in /usr/local/lib/python3.10/dist-packages (from yfinance) (2024.2)\n",
            "Requirement already satisfied: frozendict>=2.3.4 in /usr/local/lib/python3.10/dist-packages (from yfinance) (2.4.4)\n",
            "Requirement already satisfied: peewee>=3.16.2 in /usr/local/lib/python3.10/dist-packages (from yfinance) (3.17.6)\n",
            "Requirement already satisfied: beautifulsoup4>=4.11.1 in /usr/local/lib/python3.10/dist-packages (from yfinance) (4.12.3)\n",
            "Requirement already satisfied: html5lib>=1.1 in /usr/local/lib/python3.10/dist-packages (from yfinance) (1.1)\n",
            "Requirement already satisfied: soupsieve>1.2 in /usr/local/lib/python3.10/dist-packages (from beautifulsoup4>=4.11.1->yfinance) (2.6)\n",
            "Requirement already satisfied: six>=1.9 in /usr/local/lib/python3.10/dist-packages (from html5lib>=1.1->yfinance) (1.16.0)\n",
            "Requirement already satisfied: webencodings in /usr/local/lib/python3.10/dist-packages (from html5lib>=1.1->yfinance) (0.5.1)\n",
            "Requirement already satisfied: python-dateutil>=2.8.2 in /usr/local/lib/python3.10/dist-packages (from pandas>=1.3.0->yfinance) (2.8.2)\n",
            "Requirement already satisfied: tzdata>=2022.7 in /usr/local/lib/python3.10/dist-packages (from pandas>=1.3.0->yfinance) (2024.2)\n",
            "Requirement already satisfied: charset-normalizer<4,>=2 in /usr/local/lib/python3.10/dist-packages (from requests>=2.31->yfinance) (3.3.2)\n",
            "Requirement already satisfied: idna<4,>=2.5 in /usr/local/lib/python3.10/dist-packages (from requests>=2.31->yfinance) (3.10)\n",
            "Requirement already satisfied: urllib3<3,>=1.21.1 in /usr/local/lib/python3.10/dist-packages (from requests>=2.31->yfinance) (2.2.3)\n",
            "Requirement already satisfied: certifi>=2017.4.17 in /usr/local/lib/python3.10/dist-packages (from requests>=2.31->yfinance) (2024.8.30)\n",
            "Requirement already satisfied: matplotlib in /usr/local/lib/python3.10/dist-packages (3.7.1)\n",
            "Requirement already satisfied: contourpy>=1.0.1 in /usr/local/lib/python3.10/dist-packages (from matplotlib) (1.3.0)\n",
            "Requirement already satisfied: cycler>=0.10 in /usr/local/lib/python3.10/dist-packages (from matplotlib) (0.12.1)\n",
            "Requirement already satisfied: fonttools>=4.22.0 in /usr/local/lib/python3.10/dist-packages (from matplotlib) (4.54.1)\n",
            "Requirement already satisfied: kiwisolver>=1.0.1 in /usr/local/lib/python3.10/dist-packages (from matplotlib) (1.4.7)\n",
            "Requirement already satisfied: numpy>=1.20 in /usr/local/lib/python3.10/dist-packages (from matplotlib) (1.26.4)\n",
            "Requirement already satisfied: packaging>=20.0 in /usr/local/lib/python3.10/dist-packages (from matplotlib) (24.1)\n",
            "Requirement already satisfied: pillow>=6.2.0 in /usr/local/lib/python3.10/dist-packages (from matplotlib) (10.4.0)\n",
            "Requirement already satisfied: pyparsing>=2.3.1 in /usr/local/lib/python3.10/dist-packages (from matplotlib) (3.1.4)\n",
            "Requirement already satisfied: python-dateutil>=2.7 in /usr/local/lib/python3.10/dist-packages (from matplotlib) (2.8.2)\n",
            "Requirement already satisfied: six>=1.5 in /usr/local/lib/python3.10/dist-packages (from python-dateutil>=2.7->matplotlib) (1.16.0)\n"
          ]
        },
        {
          "output_type": "stream",
          "name": "stderr",
          "text": [
            "\r[*********************100%***********************]  1 of 1 completed\n",
            "<ipython-input-27-752e6a2eb512>:33: SettingWithCopyWarning: \n",
            "A value is trying to be set on a copy of a slice from a DataFrame.\n",
            "Try using .loc[row_indexer,col_indexer] = value instead\n",
            "\n",
            "See the caveats in the documentation: https://pandas.pydata.org/pandas-docs/stable/user_guide/indexing.html#returning-a-view-versus-a-copy\n",
            "  data['Open'] = data['Open'].astype('float32')\n",
            "<ipython-input-27-752e6a2eb512>:34: SettingWithCopyWarning: \n",
            "A value is trying to be set on a copy of a slice from a DataFrame.\n",
            "Try using .loc[row_indexer,col_indexer] = value instead\n",
            "\n",
            "See the caveats in the documentation: https://pandas.pydata.org/pandas-docs/stable/user_guide/indexing.html#returning-a-view-versus-a-copy\n",
            "  data['High'] = data['High'].astype('float32')\n",
            "<ipython-input-27-752e6a2eb512>:35: SettingWithCopyWarning: \n",
            "A value is trying to be set on a copy of a slice from a DataFrame.\n",
            "Try using .loc[row_indexer,col_indexer] = value instead\n",
            "\n",
            "See the caveats in the documentation: https://pandas.pydata.org/pandas-docs/stable/user_guide/indexing.html#returning-a-view-versus-a-copy\n",
            "  data['Low'] = data['Low'].astype('float32')\n",
            "<ipython-input-27-752e6a2eb512>:36: SettingWithCopyWarning: \n",
            "A value is trying to be set on a copy of a slice from a DataFrame.\n",
            "Try using .loc[row_indexer,col_indexer] = value instead\n",
            "\n",
            "See the caveats in the documentation: https://pandas.pydata.org/pandas-docs/stable/user_guide/indexing.html#returning-a-view-versus-a-copy\n",
            "  data['Close'] = data['Close'].astype('float32')\n",
            "<ipython-input-27-752e6a2eb512>:37: SettingWithCopyWarning: \n",
            "A value is trying to be set on a copy of a slice from a DataFrame.\n",
            "Try using .loc[row_indexer,col_indexer] = value instead\n",
            "\n",
            "See the caveats in the documentation: https://pandas.pydata.org/pandas-docs/stable/user_guide/indexing.html#returning-a-view-versus-a-copy\n",
            "  data['Volume'] = data['Volume'].astype('float32')\n",
            "/usr/local/lib/python3.10/dist-packages/stable_baselines3/common/env_checker.py:263: UserWarning: Your observation  has an unconventional shape (neither an image, nor a 1D vector). We recommend you to flatten the observation to have only a 1D vector or use a custom policy to properly process the data.\n",
            "  warnings.warn(\n"
          ]
        },
        {
          "output_type": "stream",
          "name": "stdout",
          "text": [
            "Using cuda device\n",
            "-----------------------------\n",
            "| time/              |      |\n",
            "|    fps             | 465  |\n",
            "|    iterations      | 1    |\n",
            "|    time_elapsed    | 4    |\n",
            "|    total_timesteps | 2048 |\n",
            "-----------------------------\n",
            "-----------------------------------------\n",
            "| time/                   |             |\n",
            "|    fps                  | 365         |\n",
            "|    iterations           | 2           |\n",
            "|    time_elapsed         | 11          |\n",
            "|    total_timesteps      | 4096        |\n",
            "| train/                  |             |\n",
            "|    approx_kl            | 0.008791153 |\n",
            "|    clip_fraction        | 0.0679      |\n",
            "|    clip_range           | 0.2         |\n",
            "|    entropy_loss         | -1.09       |\n",
            "|    explained_variance   | 1.19e-07    |\n",
            "|    learning_rate        | 0.0003      |\n",
            "|    loss                 | 3.87e+04    |\n",
            "|    n_updates            | 10          |\n",
            "|    policy_gradient_loss | -0.00293    |\n",
            "|    value_loss           | 8.01e+04    |\n",
            "-----------------------------------------\n",
            "-----------------------------------------\n",
            "| time/                   |             |\n",
            "|    fps                  | 354         |\n",
            "|    iterations           | 3           |\n",
            "|    time_elapsed         | 17          |\n",
            "|    total_timesteps      | 6144        |\n",
            "| train/                  |             |\n",
            "|    approx_kl            | 0.012816591 |\n",
            "|    clip_fraction        | 0.179       |\n",
            "|    clip_range           | 0.2         |\n",
            "|    entropy_loss         | -1.06       |\n",
            "|    explained_variance   | 0           |\n",
            "|    learning_rate        | 0.0003      |\n",
            "|    loss                 | 9.83e+04    |\n",
            "|    n_updates            | 20          |\n",
            "|    policy_gradient_loss | -0.00396    |\n",
            "|    value_loss           | 2.17e+05    |\n",
            "-----------------------------------------\n",
            "------------------------------------------\n",
            "| time/                   |              |\n",
            "|    fps                  | 338          |\n",
            "|    iterations           | 4            |\n",
            "|    time_elapsed         | 24           |\n",
            "|    total_timesteps      | 8192         |\n",
            "| train/                  |              |\n",
            "|    approx_kl            | 0.0019925046 |\n",
            "|    clip_fraction        | 0.0232       |\n",
            "|    clip_range           | 0.2          |\n",
            "|    entropy_loss         | -1.07        |\n",
            "|    explained_variance   | 0            |\n",
            "|    learning_rate        | 0.0003       |\n",
            "|    loss                 | 1.51e+05     |\n",
            "|    n_updates            | 30           |\n",
            "|    policy_gradient_loss | -0.0018      |\n",
            "|    value_loss           | 2.66e+05     |\n",
            "------------------------------------------\n",
            "------------------------------------------\n",
            "| time/                   |              |\n",
            "|    fps                  | 336          |\n",
            "|    iterations           | 5            |\n",
            "|    time_elapsed         | 30           |\n",
            "|    total_timesteps      | 10240        |\n",
            "| train/                  |              |\n",
            "|    approx_kl            | 0.0020803208 |\n",
            "|    clip_fraction        | 0.0414       |\n",
            "|    clip_range           | 0.2          |\n",
            "|    entropy_loss         | -1.07        |\n",
            "|    explained_variance   | 0            |\n",
            "|    learning_rate        | 0.0003       |\n",
            "|    loss                 | 9.11e+04     |\n",
            "|    n_updates            | 40           |\n",
            "|    policy_gradient_loss | 0.00208      |\n",
            "|    value_loss           | 2.57e+05     |\n",
            "------------------------------------------\n",
            "------------------------------------------\n",
            "| time/                   |              |\n",
            "|    fps                  | 329          |\n",
            "|    iterations           | 6            |\n",
            "|    time_elapsed         | 37           |\n",
            "|    total_timesteps      | 12288        |\n",
            "| train/                  |              |\n",
            "|    approx_kl            | 0.0053564133 |\n",
            "|    clip_fraction        | 0.226        |\n",
            "|    clip_range           | 0.2          |\n",
            "|    entropy_loss         | -1.01        |\n",
            "|    explained_variance   | 0            |\n",
            "|    learning_rate        | 0.0003       |\n",
            "|    loss                 | 8.85e+04     |\n",
            "|    n_updates            | 50           |\n",
            "|    policy_gradient_loss | 0.00781      |\n",
            "|    value_loss           | 1.78e+05     |\n",
            "------------------------------------------\n",
            "-------------------------------------------\n",
            "| time/                   |               |\n",
            "|    fps                  | 327           |\n",
            "|    iterations           | 7             |\n",
            "|    time_elapsed         | 43            |\n",
            "|    total_timesteps      | 14336         |\n",
            "| train/                  |               |\n",
            "|    approx_kl            | 0.00015018854 |\n",
            "|    clip_fraction        | 0.0517        |\n",
            "|    clip_range           | 0.2           |\n",
            "|    entropy_loss         | -0.999        |\n",
            "|    explained_variance   | 0             |\n",
            "|    learning_rate        | 0.0003        |\n",
            "|    loss                 | 1.84e+05      |\n",
            "|    n_updates            | 60            |\n",
            "|    policy_gradient_loss | 0.000989      |\n",
            "|    value_loss           | 3.87e+05      |\n",
            "-------------------------------------------\n",
            "------------------------------------------\n",
            "| time/                   |              |\n",
            "|    fps                  | 320          |\n",
            "|    iterations           | 8            |\n",
            "|    time_elapsed         | 51           |\n",
            "|    total_timesteps      | 16384        |\n",
            "| train/                  |              |\n",
            "|    approx_kl            | 6.139203e-05 |\n",
            "|    clip_fraction        | 0            |\n",
            "|    clip_range           | 0.2          |\n",
            "|    entropy_loss         | -1.03        |\n",
            "|    explained_variance   | 0            |\n",
            "|    learning_rate        | 0.0003       |\n",
            "|    loss                 | 1.7e+05      |\n",
            "|    n_updates            | 70           |\n",
            "|    policy_gradient_loss | -2.62e-05    |\n",
            "|    value_loss           | 3.58e+05     |\n",
            "------------------------------------------\n"
          ]
        },
        {
          "output_type": "stream",
          "name": "stderr",
          "text": [
            "<ipython-input-27-752e6a2eb512>:189: FutureWarning: A value is trying to be set on a copy of a DataFrame or Series through chained assignment using an inplace method.\n",
            "The behavior will change in pandas 3.0. This inplace method will never work because the intermediate object on which we are setting values always behaves as a copy.\n",
            "\n",
            "For example, when doing 'df[col].method(value, inplace=True)', try using 'df.method({col: value}, inplace=True)' or df[col] = df[col].method(value) instead, to perform the operation inplace on the original object.\n",
            "\n",
            "\n",
            "  merged_data['Action'].fillna(0, inplace=True)\n"
          ]
        },
        {
          "output_type": "stream",
          "name": "stdout",
          "text": [
            "初始資金: 10000.00\n",
            "最終資金: 20455.69\n"
          ]
        },
        {
          "output_type": "display_data",
          "data": {
            "text/plain": [
              "<Figure size 2000x1600 with 3 Axes>"
            ],
            "image/png": "[encoded data removed]"
          },
          "metadata": {}
        }
      ],
      "source": [
        "# 安裝必要的庫\n",
        "!pip install stable-baselines3\n",
        "!pip install gymnasium\n",
        "!pip install gymnasium[classic_control]\n",
        "!pip install backtrader\n",
        "!pip install yfinance\n",
        "!pip install matplotlib\n",
        "\n",
        "# 導入庫\n",
        "import pandas as pd\n",
        "import numpy as np\n",
        "import matplotlib.pyplot as plt\n",
        "import yfinance as yf\n",
        "import backtrader as bt\n",
        "from stable_baselines3 import PPO\n",
        "from stable_baselines3.common.vec_env import DummyVecEnv\n",
        "from stable_baselines3.common import env_checker\n",
        "from stable_baselines3.common.policies import ActorCriticCnnPolicy, ActorCriticPolicy\n",
        "from stable_baselines3.common.torch_layers import BaseFeaturesExtractor\n",
        "import gymnasium as gym\n",
        "from gymnasium import spaces\n",
        "import torch\n",
        "import torch.nn as nn\n",
        "\n",
        "# 獲取數據\n",
        "data = yf.download('AAPL', start='2015-01-01', end='2021-01-01')\n",
        "data.reset_index(inplace=True)\n",
        "data['Date'] = pd.to_datetime(data['Date'])  # 確保 Date 列為 datetime 類型\n",
        "data = data[['Date', 'Open', 'High', 'Low', 'Close', 'Volume']]\n",
        "data.set_index('Date', inplace=True)\n",
        "\n",
        "# 數據預處理\n",
        "data['Open'] = data['Open'].astype('float32')\n",
        "data['High'] = data['High'].astype('float32')\n",
        "data['Low'] = data['Low'].astype('float32')\n",
        "data['Close'] = data['Close'].astype('float32')\n",
        "data['Volume'] = data['Volume'].astype('float32')\n",
        "\n",
        "# 定義交易環境\n",
        "class TradingEnv(gym.Env):\n",
        "    \"\"\"自訂的交易環境，用於強化學習模型訓練，代理觀察過去 15 天的數據\"\"\"\n",
        "\n",
        "    def __init__(self, data, window_size=15, cash=10000, commission=0.001):\n",
        "        super(TradingEnv, self).__init__()\n",
        "        self.data = data.reset_index()\n",
        "        self.cash = cash  # 初始現金\n",
        "        self.initial_cash = cash  # 紀錄初始現金\n",
        "        self.commission = commission  # 交易手續費\n",
        "        self.window_size = window_size  # 觀察窗口大小\n",
        "        self.current_step = self.window_size  # 開始位置\n",
        "\n",
        "        # 定義觀測空間和行動空間\n",
        "        self.observation_space = spaces.Box(\n",
        "            low=-np.inf, high=np.inf, shape=(self.window_size, 5), dtype=np.float32\n",
        "        )\n",
        "        self.action_space = spaces.Discrete(3)  # 0: 持有, 1: 買入, 2: 賣出\n",
        "\n",
        "        # 初始化帳戶資訊\n",
        "        self.position = 0  # 持有的股票數量\n",
        "        self.net_worth = self.cash  # 資產淨值\n",
        "        self.prev_net_worth = self.cash  # 前一步的資產淨值\n",
        "\n",
        "        # 紀錄交易訊號\n",
        "        self.trades = []\n",
        "\n",
        "    def _get_obs(self):\n",
        "        \"\"\"獲取當前的觀測值\"\"\"\n",
        "        obs = self.data.loc[self.current_step - self.window_size:self.current_step - 1, ['Open', 'High', 'Low', 'Close', 'Volume']].values\n",
        "        return obs\n",
        "\n",
        "    def reset(self, *, seed=None, options=None):\n",
        "        \"\"\"重置環境到初始狀態\"\"\"\n",
        "        super().reset(seed=seed)\n",
        "        self.current_step = self.window_size\n",
        "        self.position = 0\n",
        "        self.cash = self.initial_cash\n",
        "        self.net_worth = self.cash\n",
        "        self.prev_net_worth = self.cash\n",
        "        self.trades = []  # 重置交易紀錄\n",
        "        obs = self._get_obs()\n",
        "        info = {}\n",
        "        return obs, info\n",
        "\n",
        "    def step(self, action):\n",
        "        \"\"\"執行一個行動，並返回新的狀態和獎勵\"\"\"\n",
        "        current_price = self.data.loc[self.current_step, 'Close']\n",
        "\n",
        "        # 記錄交易訊號\n",
        "        date = self.data.loc[self.current_step, 'Date']\n",
        "        self.trades.append({'Date': date, 'Action': action})\n",
        "\n",
        "        # 計算交易手續費\n",
        "        commission = 0\n",
        "\n",
        "        if action == 1:  # 買入\n",
        "            # 計算可買入的最大股數\n",
        "            max_shares = int(self.cash / (current_price * (1 + self.commission)))\n",
        "            if max_shares > 0:\n",
        "                # 更新帳戶餘額和持倉\n",
        "                cost = max_shares * current_price * (1 + self.commission)\n",
        "                self.cash -= cost\n",
        "                self.position += max_shares\n",
        "                commission = cost * self.commission\n",
        "        elif action == 2:  # 賣出\n",
        "            if self.position > 0:\n",
        "                # 更新帳戶餘額和持倉\n",
        "                revenue = self.position * current_price * (1 - self.commission)\n",
        "                self.cash += revenue\n",
        "                commission = self.position * current_price * self.commission\n",
        "                self.position = 0\n",
        "        # action == 0 表示持有，不執行任何操作\n",
        "\n",
        "        self.current_step += 1\n",
        "\n",
        "        # 更新資產淨值\n",
        "        self.net_worth = self.cash + self.position * current_price\n",
        "\n",
        "        # 計算獎勵\n",
        "        reward = self.net_worth - self.prev_net_worth - commission\n",
        "        self.prev_net_worth = self.net_worth\n",
        "\n",
        "        # 判斷是否終止\n",
        "        if self.current_step >= len(self.data):\n",
        "            terminated = True\n",
        "        else:\n",
        "            terminated = False\n",
        "        truncated = False\n",
        "\n",
        "        obs = self._get_obs()\n",
        "        info = {}\n",
        "\n",
        "        return obs, reward, terminated, truncated, info\n",
        "\n",
        "    def render(self):\n",
        "        \"\"\"渲染環境（此處未實作）\"\"\"\n",
        "        pass\n",
        "\n",
        "# 定義自訂的特徵提取器\n",
        "class CustomLSTMFeatureExtractor(BaseFeaturesExtractor):\n",
        "    \"\"\"\n",
        "    自訂的特徵提取器，使用 LSTM 處理時間序列數據\n",
        "    \"\"\"\n",
        "\n",
        "    def __init__(self, observation_space: spaces.Box, features_dim: int = 128):\n",
        "        super(CustomLSTMFeatureExtractor, self).__init__(observation_space, features_dim)\n",
        "        self.lstm = nn.LSTM(input_size=5, hidden_size=features_dim, batch_first=True)\n",
        "\n",
        "    def forward(self, observations: torch.Tensor) -> torch.Tensor:\n",
        "        # observations shape: (batch_size, window_size, 5)\n",
        "        lstm_output, (h_n, c_n) = self.lstm(observations)\n",
        "        # 我們取最後一個時間步的輸出作為特徵\n",
        "        return h_n[-1]\n",
        "\n",
        "# 創建環境實例\n",
        "env = TradingEnv(data)\n",
        "\n",
        "# 檢查環境\n",
        "env_checker.check_env(env)\n",
        "\n",
        "# 包裝環境\n",
        "env = DummyVecEnv([lambda: env])\n",
        "\n",
        "# 定義政策網絡\n",
        "policy_kwargs = dict(\n",
        "    features_extractor_class=CustomLSTMFeatureExtractor,\n",
        "    features_extractor_kwargs=dict(features_dim=128),\n",
        ")\n",
        "\n",
        "# 訓練模型\n",
        "model = PPO('MlpPolicy', env, policy_kwargs=policy_kwargs, verbose=1)\n",
        "model.learn(total_timesteps=15000)\n",
        "\n",
        "# 測試模型並收集交易訊號\n",
        "env.envs[0].reset()\n",
        "for i in range(env.envs[0].window_size, len(data)):\n",
        "    obs = env.envs[0]._get_obs()\n",
        "    obs = obs[np.newaxis, :]  # 添加 batch 維度\n",
        "    action, _states = model.predict(obs, deterministic=True)\n",
        "    obs, rewards, dones, truncated, info = env.envs[0].step(action[0])\n",
        "    if dones:\n",
        "        break\n",
        "\n",
        "# 從環境中獲取交易紀錄\n",
        "trades = pd.DataFrame(env.envs[0].trades)\n",
        "\n",
        "# 將交易紀錄與原始數據合併\n",
        "data.reset_index(inplace=True)\n",
        "merged_data = pd.merge(data, trades, on='Date', how='left')\n",
        "merged_data['Action'].fillna(0, inplace=True)\n",
        "\n",
        "# 確保 Date 列為 datetime 類型\n",
        "merged_data['Date'] = pd.to_datetime(merged_data['Date'])\n",
        "\n",
        "# 在 Backtrader 中顯示買賣點\n",
        "class RLStrategy(bt.Strategy):\n",
        "    \"\"\"自訂的策略，用於在圖表上顯示買賣點\"\"\"\n",
        "\n",
        "    def __init__(self):\n",
        "        self.dataclose = self.datas[0].close\n",
        "\n",
        "    def next(self):\n",
        "        # 根據交易紀錄執行買賣\n",
        "        idx = len(self) - 1  # 當前索引\n",
        "        action = merged_data.loc[idx, 'Action']\n",
        "        if action == 1 and self.position.size == 0:\n",
        "            # 買入\n",
        "            self.buy(size=100)\n",
        "        elif action == 2 and self.position.size > 0:\n",
        "            # 賣出\n",
        "            self.sell(size=self.position.size)\n",
        "\n",
        "# 設置 Backtrader\n",
        "cerebro = bt.Cerebro()\n",
        "# 在添加數據時，指定 datetime 列\n",
        "data_bt = bt.feeds.PandasData(\n",
        "    dataname=merged_data,\n",
        "    datetime='Date',\n",
        "    open='Open',\n",
        "    high='High',\n",
        "    low='Low',\n",
        "    close='Close',\n",
        "    volume='Volume',\n",
        "    openinterest=-1,\n",
        "    timeframe=bt.TimeFrame.Days\n",
        ")\n",
        "cerebro.adddata(data_bt)\n",
        "cerebro.addstrategy(RLStrategy)\n",
        "cerebro.broker.setcash(10000)\n",
        "cerebro.broker.setcommission(commission=0.001)\n",
        "\n",
        "print('初始資金: %.2f' % cerebro.broker.getvalue())\n",
        "cerebro.run()\n",
        "print('最終資金: %.2f' % cerebro.broker.getvalue())\n",
        "\n",
        "# 繪製圖表\n",
        "%matplotlib inline\n",
        "plt.rcParams['figure.figsize'] = [20, 16]\n",
        "plt.rcParams.update({'font.size': 12})\n",
        "img = cerebro.plot(iplot = False)\n",
        "img[0][0].savefig('backtrader_ppo_lstm.png')\n"
      ]
    },
    {
      "cell_type": "markdown",
      "source": [
        "### **十一、總結**\n",
        "\n",
        "在本教學中，我們：\n",
        "\n",
        "- **實現了基於 LSTM 的強化學習代理**，使其能夠觀察過去 15 天的市場數據，提升了對時間序列模式的捕捉能力。\n",
        "- **自訂了特徵提取器**，使用 PyTorch 中的 LSTM 模組，處理高維度的觀測值。\n",
        "- **結合 Stable Baselines 3 和 Backtrader**，完成了模型的訓練和回測，並在圖表上顯示了買賣點。\n",
        "\n",
        "---\n",
        "\n",
        "### **作業**\n",
        "\n",
        "1. **調整觀察窗口大小**：嘗試使用不同的 `window_size`，例如 5 天、30 天，觀察對模型性能的影響。\n",
        "2. **添加技術指標**：在觀測值中加入技術指標，例如移動平均線、RSI 等，進一步提升模型的決策能力。\n",
        "3. **優化模型超參數**：調整 LSTM 的隱藏層大小、訓練步數、學習率等超參數，尋找最佳配置。\n",
        "4. **嘗試不同的強化學習算法**：替換為 DDPG、SAC 等算法，進行性能比較。\n",
        "5. **嘗試Transformer**: 替換 LSTM 成為 Transformer\n",
        "\n",
        "---\n",
        "\n",
        "### **提示**\n",
        "\n",
        "- **數據預處理**：確保數據沒有缺失值或異常值，必要時進行清洗。\n",
        "- **模型穩定性**：為了獲得穩定的結果，可以多次訓練模型，並計算平均績效。\n",
        "- **觀測值標準化**：考慮對觀測值進行標準化或正規化，可能有助於模型的訓練。\n",
        "\n",
        "---\n",
        "\n",
        "### **注意事項**\n",
        "\n",
        "- **風險提示**：金融市場具有高度的不確定性，模型的結果僅供參考，不應作為實際投資決策的唯一依據。\n",
        "- **合規要求**：遵守相關法律法規和市場規則，合法合規地進行交易。\n",
        "- **倫理考慮**：確保模型的設計和應用符合道德標準，不得進行市場操縱等不當行為。\n",
        "\n",
        "---\n",
        "\n",
        "*希望通過本教學，您能夠深入理解如何使用 LSTM 強化學習方法進行量化交易策略的開發，並掌握 Stable Baselines 3 和 Backtrader 的實際應用技巧。*"
      ],
      "metadata": {
        "id": "L5dhScD0OQLX"
      }
    }
  ]
}