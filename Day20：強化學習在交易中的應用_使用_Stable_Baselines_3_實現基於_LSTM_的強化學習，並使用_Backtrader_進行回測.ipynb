{
  "nbformat": 4,
  "nbformat_minor": 0,
  "metadata": {
    "colab": {
      "provenance": [],
      "gpuType": "T4",
      "include_colab_link": true
    },
    "kernelspec": {
      "name": "python3",
      "display_name": "Python 3"
    },
    "language_info": {
      "name": "python"
    },
    "accelerator": "GPU"
  },
  "cells": [
    {
      "cell_type": "markdown",
      "metadata": {
        "id": "view-in-github",
        "colab_type": "text"
      },
      "source": [
        "<a href=\"https://colab.research.google.com/github/ten2net/ppo/blob/main/Day20%EF%BC%9A%E5%BC%B7%E5%8C%96%E5%AD%B8%E7%BF%92%E5%9C%A8%E4%BA%A4%E6%98%93%E4%B8%AD%E7%9A%84%E6%87%89%E7%94%A8_%E4%BD%BF%E7%94%A8_Stable_Baselines_3_%E5%AF%A6%E7%8F%BE%E5%9F%BA%E6%96%BC_LSTM_%E7%9A%84%E5%BC%B7%E5%8C%96%E5%AD%B8%E7%BF%92%EF%BC%8C%E4%B8%A6%E4%BD%BF%E7%94%A8_Backtrader_%E9%80%B2%E8%A1%8C%E5%9B%9E%E6%B8%AC.ipynb\" target=\"_parent\"><img src=\"https://colab.research.google.com/assets/colab-badge.svg\" alt=\"Open In Colab\"/></a>"
      ]
    },
    {
      "cell_type": "markdown",
      "source": [
        "在上次的教學中我們使用了 `Stable baseline3`來搭建我們的 RL agent 並將買賣過程放回 backtrader 上進行視覺化。在本教學中，我們將進一步深入強化學習在金融交易中的應用。我們將使用 Stable Baselines 3 實現一個基於 LSTM（長短期記憶網絡）的強化學習代理，並使用 Backtrader 進行回測。我們的代理將在每個時間步觀察過去 15 天的市場數據，以做出更明智的交易決策。[今日 Colab](https://colab.research.google.com/drive/19PpIVOGlSwR10feAuvINQ9x3-5WSTQjl?usp=sharing)\n",
        "\n",
        "---\n",
        "\n",
        "### **一、引言**\n",
        "\n",
        "#### **1. 為什麼使用 LSTM？**\n",
        "\n",
        "- **時間序列特性**：股票價格具有時間相關性，過去的價格信息對未來的價格有影響。\n",
        "- **LSTM 的優勢**：LSTM 能夠捕捉長期和短期的時間依賴性，適合處理時間序列數據。\n",
        "- **改進決策能力**：通過觀察過去 15 天的數據，代理可以學習市場的趨勢和模式，從而提升交易策略的效果。\n",
        "![https://ithelp.ithome.com.tw/upload/images/20241005/201205495RQwsaCiO2.png](https://ithelp.ithome.com.tw/upload/images/20241005/201205495RQwsaCiO2.png)\n",
        "---\n",
        "\n",
        "### **二、環境設置**\n",
        "\n",
        "#### **1. 安裝必要的庫**\n",
        "\n",
        "在 Google Colab 中，我們需要安裝以下庫："
      ],
      "metadata": {
        "id": "Um537YWuLQWX"
      }
    },
    {
      "cell_type": "code",
      "source": [
        "!pip install stable-baselines3\n",
        "!pip install gymnasium\n",
        "!pip install gymnasium[classic_control]\n",
        "!pip install backtrader\n",
        "!pip install yfinance\n",
        "!pip install matplotlib"
      ],
      "metadata": {
        "colab": {
          "base_uri": "https://localhost:8080/"
        },
        "id": "-_STX0shLSzc",
        "outputId": "69877cb4-1232-43be-d131-8b6f4c0366c0"
      },
      "execution_count": 1,
      "outputs": [
        {
          "output_type": "stream",
          "name": "stdout",
          "text": [
            "Collecting stable-baselines3\n",
            "  Downloading stable_baselines3-2.5.0-py3-none-any.whl.metadata (4.8 kB)\n",
            "Collecting gymnasium<1.1.0,>=0.29.1 (from stable-baselines3)\n",
            "  Downloading gymnasium-1.0.0-py3-none-any.whl.metadata (9.5 kB)\n",
            "Requirement already satisfied: numpy<3.0,>=1.20 in /usr/local/lib/python3.11/dist-packages (from stable-baselines3) (1.26.4)\n",
            "Requirement already satisfied: torch<3.0,>=2.3 in /usr/local/lib/python3.11/dist-packages (from stable-baselines3) (2.5.1+cu124)\n",
            "Requirement already satisfied: cloudpickle in /usr/local/lib/python3.11/dist-packages (from stable-baselines3) (3.1.1)\n",
            "Requirement already satisfied: pandas in /usr/local/lib/python3.11/dist-packages (from stable-baselines3) (2.2.2)\n",
            "Requirement already satisfied: matplotlib in /usr/local/lib/python3.11/dist-packages (from stable-baselines3) (3.10.0)\n",
            "Requirement already satisfied: typing-extensions>=4.3.0 in /usr/local/lib/python3.11/dist-packages (from gymnasium<1.1.0,>=0.29.1->stable-baselines3) (4.12.2)\n",
            "Requirement already satisfied: farama-notifications>=0.0.1 in /usr/local/lib/python3.11/dist-packages (from gymnasium<1.1.0,>=0.29.1->stable-baselines3) (0.0.4)\n",
            "Requirement already satisfied: filelock in /usr/local/lib/python3.11/dist-packages (from torch<3.0,>=2.3->stable-baselines3) (3.17.0)\n",
            "Requirement already satisfied: networkx in /usr/local/lib/python3.11/dist-packages (from torch<3.0,>=2.3->stable-baselines3) (3.4.2)\n",
            "Requirement already satisfied: jinja2 in /usr/local/lib/python3.11/dist-packages (from torch<3.0,>=2.3->stable-baselines3) (3.1.5)\n",
            "Requirement already satisfied: fsspec in /usr/local/lib/python3.11/dist-packages (from torch<3.0,>=2.3->stable-baselines3) (2024.10.0)\n",
            "Collecting nvidia-cuda-nvrtc-cu12==12.4.127 (from torch<3.0,>=2.3->stable-baselines3)\n",
            "  Downloading nvidia_cuda_nvrtc_cu12-12.4.127-py3-none-manylinux2014_x86_64.whl.metadata (1.5 kB)\n",
            "Collecting nvidia-cuda-runtime-cu12==12.4.127 (from torch<3.0,>=2.3->stable-baselines3)\n",
            "  Downloading nvidia_cuda_runtime_cu12-12.4.127-py3-none-manylinux2014_x86_64.whl.metadata (1.5 kB)\n",
            "Collecting nvidia-cuda-cupti-cu12==12.4.127 (from torch<3.0,>=2.3->stable-baselines3)\n",
            "  Downloading nvidia_cuda_cupti_cu12-12.4.127-py3-none-manylinux2014_x86_64.whl.metadata (1.6 kB)\n",
            "Collecting nvidia-cudnn-cu12==9.1.0.70 (from torch<3.0,>=2.3->stable-baselines3)\n",
            "  Downloading nvidia_cudnn_cu12-9.1.0.70-py3-none-manylinux2014_x86_64.whl.metadata (1.6 kB)\n",
            "Collecting nvidia-cublas-cu12==12.4.5.8 (from torch<3.0,>=2.3->stable-baselines3)\n",
            "  Downloading nvidia_cublas_cu12-12.4.5.8-py3-none-manylinux2014_x86_64.whl.metadata (1.5 kB)\n",
            "Collecting nvidia-cufft-cu12==11.2.1.3 (from torch<3.0,>=2.3->stable-baselines3)\n",
            "  Downloading nvidia_cufft_cu12-11.2.1.3-py3-none-manylinux2014_x86_64.whl.metadata (1.5 kB)\n",
            "Collecting nvidia-curand-cu12==10.3.5.147 (from torch<3.0,>=2.3->stable-baselines3)\n",
            "  Downloading nvidia_curand_cu12-10.3.5.147-py3-none-manylinux2014_x86_64.whl.metadata (1.5 kB)\n",
            "Collecting nvidia-cusolver-cu12==11.6.1.9 (from torch<3.0,>=2.3->stable-baselines3)\n",
            "  Downloading nvidia_cusolver_cu12-11.6.1.9-py3-none-manylinux2014_x86_64.whl.metadata (1.6 kB)\n",
            "Collecting nvidia-cusparse-cu12==12.3.1.170 (from torch<3.0,>=2.3->stable-baselines3)\n",
            "  Downloading nvidia_cusparse_cu12-12.3.1.170-py3-none-manylinux2014_x86_64.whl.metadata (1.6 kB)\n",
            "Requirement already satisfied: nvidia-nccl-cu12==2.21.5 in /usr/local/lib/python3.11/dist-packages (from torch<3.0,>=2.3->stable-baselines3) (2.21.5)\n",
            "Requirement already satisfied: nvidia-nvtx-cu12==12.4.127 in /usr/local/lib/python3.11/dist-packages (from torch<3.0,>=2.3->stable-baselines3) (12.4.127)\n",
            "Collecting nvidia-nvjitlink-cu12==12.4.127 (from torch<3.0,>=2.3->stable-baselines3)\n",
            "  Downloading nvidia_nvjitlink_cu12-12.4.127-py3-none-manylinux2014_x86_64.whl.metadata (1.5 kB)\n",
            "Requirement already satisfied: triton==3.1.0 in /usr/local/lib/python3.11/dist-packages (from torch<3.0,>=2.3->stable-baselines3) (3.1.0)\n",
            "Requirement already satisfied: sympy==1.13.1 in /usr/local/lib/python3.11/dist-packages (from torch<3.0,>=2.3->stable-baselines3) (1.13.1)\n",
            "Requirement already satisfied: mpmath<1.4,>=1.1.0 in /usr/local/lib/python3.11/dist-packages (from sympy==1.13.1->torch<3.0,>=2.3->stable-baselines3) (1.3.0)\n",
            "Requirement already satisfied: contourpy>=1.0.1 in /usr/local/lib/python3.11/dist-packages (from matplotlib->stable-baselines3) (1.3.1)\n",
            "Requirement already satisfied: cycler>=0.10 in /usr/local/lib/python3.11/dist-packages (from matplotlib->stable-baselines3) (0.12.1)\n",
            "Requirement already satisfied: fonttools>=4.22.0 in /usr/local/lib/python3.11/dist-packages (from matplotlib->stable-baselines3) (4.56.0)\n",
            "Requirement already satisfied: kiwisolver>=1.3.1 in /usr/local/lib/python3.11/dist-packages (from matplotlib->stable-baselines3) (1.4.8)\n",
            "Requirement already satisfied: packaging>=20.0 in /usr/local/lib/python3.11/dist-packages (from matplotlib->stable-baselines3) (24.2)\n",
            "Requirement already satisfied: pillow>=8 in /usr/local/lib/python3.11/dist-packages (from matplotlib->stable-baselines3) (11.1.0)\n",
            "Requirement already satisfied: pyparsing>=2.3.1 in /usr/local/lib/python3.11/dist-packages (from matplotlib->stable-baselines3) (3.2.1)\n",
            "Requirement already satisfied: python-dateutil>=2.7 in /usr/local/lib/python3.11/dist-packages (from matplotlib->stable-baselines3) (2.8.2)\n",
            "Requirement already satisfied: pytz>=2020.1 in /usr/local/lib/python3.11/dist-packages (from pandas->stable-baselines3) (2025.1)\n",
            "Requirement already satisfied: tzdata>=2022.7 in /usr/local/lib/python3.11/dist-packages (from pandas->stable-baselines3) (2025.1)\n",
            "Requirement already satisfied: six>=1.5 in /usr/local/lib/python3.11/dist-packages (from python-dateutil>=2.7->matplotlib->stable-baselines3) (1.17.0)\n",
            "Requirement already satisfied: MarkupSafe>=2.0 in /usr/local/lib/python3.11/dist-packages (from jinja2->torch<3.0,>=2.3->stable-baselines3) (3.0.2)\n",
            "Downloading stable_baselines3-2.5.0-py3-none-any.whl (183 kB)\n",
            "\u001b[2K   \u001b[90m━━━━━━━━━━━━━━━━━━━━━━━━━━━━━━━━━━━━━━━━\u001b[0m \u001b[32m183.9/183.9 kB\u001b[0m \u001b[31m4.1 MB/s\u001b[0m eta \u001b[36m0:00:00\u001b[0m\n",
            "\u001b[?25hDownloading gymnasium-1.0.0-py3-none-any.whl (958 kB)\n",
            "\u001b[2K   \u001b[90m━━━━━━━━━━━━━━━━━━━━━━━━━━━━━━━━━━━━━━━━\u001b[0m \u001b[32m958.1/958.1 kB\u001b[0m \u001b[31m15.2 MB/s\u001b[0m eta \u001b[36m0:00:00\u001b[0m\n",
            "\u001b[?25hDownloading nvidia_cublas_cu12-12.4.5.8-py3-none-manylinux2014_x86_64.whl (363.4 MB)\n",
            "\u001b[2K   \u001b[90m━━━━━━━━━━━━━━━━━━━━━━━━━━━━━━━━━━━━━━━━\u001b[0m \u001b[32m363.4/363.4 MB\u001b[0m \u001b[31m3.9 MB/s\u001b[0m eta \u001b[36m0:00:00\u001b[0m\n",
            "\u001b[?25hDownloading nvidia_cuda_cupti_cu12-12.4.127-py3-none-manylinux2014_x86_64.whl (13.8 MB)\n",
            "\u001b[2K   \u001b[90m━━━━━━━━━━━━━━━━━━━━━━━━━━━━━━━━━━━━━━━━\u001b[0m \u001b[32m13.8/13.8 MB\u001b[0m \u001b[31m34.7 MB/s\u001b[0m eta \u001b[36m0:00:00\u001b[0m\n",
            "\u001b[?25hDownloading nvidia_cuda_nvrtc_cu12-12.4.127-py3-none-manylinux2014_x86_64.whl (24.6 MB)\n",
            "\u001b[2K   \u001b[90m━━━━━━━━━━━━━━━━━━━━━━━━━━━━━━━━━━━━━━━━\u001b[0m \u001b[32m24.6/24.6 MB\u001b[0m \u001b[31m21.0 MB/s\u001b[0m eta \u001b[36m0:00:00\u001b[0m\n",
            "\u001b[?25hDownloading nvidia_cuda_runtime_cu12-12.4.127-py3-none-manylinux2014_x86_64.whl (883 kB)\n",
            "\u001b[2K   \u001b[90m━━━━━━━━━━━━━━━━━━━━━━━━━━━━━━━━━━━━━━━━\u001b[0m \u001b[32m883.7/883.7 kB\u001b[0m \u001b[31m44.0 MB/s\u001b[0m eta \u001b[36m0:00:00\u001b[0m\n",
            "\u001b[?25hDownloading nvidia_cudnn_cu12-9.1.0.70-py3-none-manylinux2014_x86_64.whl (664.8 MB)\n",
            "\u001b[2K   \u001b[90m━━━━━━━━━━━━━━━━━━━━━━━━━━━━━━━━━━━━━━━━\u001b[0m \u001b[32m664.8/664.8 MB\u001b[0m \u001b[31m2.6 MB/s\u001b[0m eta \u001b[36m0:00:00\u001b[0m\n",
            "\u001b[?25hDownloading nvidia_cufft_cu12-11.2.1.3-py3-none-manylinux2014_x86_64.whl (211.5 MB)\n",
            "\u001b[2K   \u001b[90m━━━━━━━━━━━━━━━━━━━━━━━━━━━━━━━━━━━━━━━━\u001b[0m \u001b[32m211.5/211.5 MB\u001b[0m \u001b[31m5.6 MB/s\u001b[0m eta \u001b[36m0:00:00\u001b[0m\n",
            "\u001b[?25hDownloading nvidia_curand_cu12-10.3.5.147-py3-none-manylinux2014_x86_64.whl (56.3 MB)\n",
            "\u001b[2K   \u001b[90m━━━━━━━━━━━━━━━━━━━━━━━━━━━━━━━━━━━━━━━━\u001b[0m \u001b[32m56.3/56.3 MB\u001b[0m \u001b[31m9.3 MB/s\u001b[0m eta \u001b[36m0:00:00\u001b[0m\n",
            "\u001b[?25hDownloading nvidia_cusolver_cu12-11.6.1.9-py3-none-manylinux2014_x86_64.whl (127.9 MB)\n",
            "\u001b[2K   \u001b[90m━━━━━━━━━━━━━━━━━━━━━━━━━━━━━━━━━━━━━━━━\u001b[0m \u001b[32m127.9/127.9 MB\u001b[0m \u001b[31m7.1 MB/s\u001b[0m eta \u001b[36m0:00:00\u001b[0m\n",
            "\u001b[?25hDownloading nvidia_cusparse_cu12-12.3.1.170-py3-none-manylinux2014_x86_64.whl (207.5 MB)\n",
            "\u001b[2K   \u001b[90m━━━━━━━━━━━━━━━━━━━━━━━━━━━━━━━━━━━━━━━━\u001b[0m \u001b[32m207.5/207.5 MB\u001b[0m \u001b[31m5.6 MB/s\u001b[0m eta \u001b[36m0:00:00\u001b[0m\n",
            "\u001b[?25hDownloading nvidia_nvjitlink_cu12-12.4.127-py3-none-manylinux2014_x86_64.whl (21.1 MB)\n",
            "\u001b[2K   \u001b[90m━━━━━━━━━━━━━━━━━━━━━━━━━━━━━━━━━━━━━━━━\u001b[0m \u001b[32m21.1/21.1 MB\u001b[0m \u001b[31m59.6 MB/s\u001b[0m eta \u001b[36m0:00:00\u001b[0m\n",
            "\u001b[?25hInstalling collected packages: nvidia-nvjitlink-cu12, nvidia-curand-cu12, nvidia-cufft-cu12, nvidia-cuda-runtime-cu12, nvidia-cuda-nvrtc-cu12, nvidia-cuda-cupti-cu12, nvidia-cublas-cu12, gymnasium, nvidia-cusparse-cu12, nvidia-cudnn-cu12, nvidia-cusolver-cu12, stable-baselines3\n",
            "  Attempting uninstall: nvidia-nvjitlink-cu12\n",
            "    Found existing installation: nvidia-nvjitlink-cu12 12.5.82\n",
            "    Uninstalling nvidia-nvjitlink-cu12-12.5.82:\n",
            "      Successfully uninstalled nvidia-nvjitlink-cu12-12.5.82\n",
            "  Attempting uninstall: nvidia-curand-cu12\n",
            "    Found existing installation: nvidia-curand-cu12 10.3.6.82\n",
            "    Uninstalling nvidia-curand-cu12-10.3.6.82:\n",
            "      Successfully uninstalled nvidia-curand-cu12-10.3.6.82\n",
            "  Attempting uninstall: nvidia-cufft-cu12\n",
            "    Found existing installation: nvidia-cufft-cu12 11.2.3.61\n",
            "    Uninstalling nvidia-cufft-cu12-11.2.3.61:\n",
            "      Successfully uninstalled nvidia-cufft-cu12-11.2.3.61\n",
            "  Attempting uninstall: nvidia-cuda-runtime-cu12\n",
            "    Found existing installation: nvidia-cuda-runtime-cu12 12.5.82\n",
            "    Uninstalling nvidia-cuda-runtime-cu12-12.5.82:\n",
            "      Successfully uninstalled nvidia-cuda-runtime-cu12-12.5.82\n",
            "  Attempting uninstall: nvidia-cuda-nvrtc-cu12\n",
            "    Found existing installation: nvidia-cuda-nvrtc-cu12 12.5.82\n",
            "    Uninstalling nvidia-cuda-nvrtc-cu12-12.5.82:\n",
            "      Successfully uninstalled nvidia-cuda-nvrtc-cu12-12.5.82\n",
            "  Attempting uninstall: nvidia-cuda-cupti-cu12\n",
            "    Found existing installation: nvidia-cuda-cupti-cu12 12.5.82\n",
            "    Uninstalling nvidia-cuda-cupti-cu12-12.5.82:\n",
            "      Successfully uninstalled nvidia-cuda-cupti-cu12-12.5.82\n",
            "  Attempting uninstall: nvidia-cublas-cu12\n",
            "    Found existing installation: nvidia-cublas-cu12 12.5.3.2\n",
            "    Uninstalling nvidia-cublas-cu12-12.5.3.2:\n",
            "      Successfully uninstalled nvidia-cublas-cu12-12.5.3.2\n",
            "  Attempting uninstall: gymnasium\n",
            "    Found existing installation: gymnasium 1.1.0\n",
            "    Uninstalling gymnasium-1.1.0:\n",
            "      Successfully uninstalled gymnasium-1.1.0\n",
            "  Attempting uninstall: nvidia-cusparse-cu12\n",
            "    Found existing installation: nvidia-cusparse-cu12 12.5.1.3\n",
            "    Uninstalling nvidia-cusparse-cu12-12.5.1.3:\n",
            "      Successfully uninstalled nvidia-cusparse-cu12-12.5.1.3\n",
            "  Attempting uninstall: nvidia-cudnn-cu12\n",
            "    Found existing installation: nvidia-cudnn-cu12 9.3.0.75\n",
            "    Uninstalling nvidia-cudnn-cu12-9.3.0.75:\n",
            "      Successfully uninstalled nvidia-cudnn-cu12-9.3.0.75\n",
            "  Attempting uninstall: nvidia-cusolver-cu12\n",
            "    Found existing installation: nvidia-cusolver-cu12 11.6.3.83\n",
            "    Uninstalling nvidia-cusolver-cu12-11.6.3.83:\n",
            "      Successfully uninstalled nvidia-cusolver-cu12-11.6.3.83\n",
            "Successfully installed gymnasium-1.0.0 nvidia-cublas-cu12-12.4.5.8 nvidia-cuda-cupti-cu12-12.4.127 nvidia-cuda-nvrtc-cu12-12.4.127 nvidia-cuda-runtime-cu12-12.4.127 nvidia-cudnn-cu12-9.1.0.70 nvidia-cufft-cu12-11.2.1.3 nvidia-curand-cu12-10.3.5.147 nvidia-cusolver-cu12-11.6.1.9 nvidia-cusparse-cu12-12.3.1.170 nvidia-nvjitlink-cu12-12.4.127 stable-baselines3-2.5.0\n",
            "Requirement already satisfied: gymnasium in /usr/local/lib/python3.11/dist-packages (1.0.0)\n",
            "Requirement already satisfied: numpy>=1.21.0 in /usr/local/lib/python3.11/dist-packages (from gymnasium) (1.26.4)\n",
            "Requirement already satisfied: cloudpickle>=1.2.0 in /usr/local/lib/python3.11/dist-packages (from gymnasium) (3.1.1)\n",
            "Requirement already satisfied: typing-extensions>=4.3.0 in /usr/local/lib/python3.11/dist-packages (from gymnasium) (4.12.2)\n",
            "Requirement already satisfied: farama-notifications>=0.0.1 in /usr/local/lib/python3.11/dist-packages (from gymnasium) (0.0.4)\n",
            "Requirement already satisfied: gymnasium[classic_control] in /usr/local/lib/python3.11/dist-packages (1.0.0)\n",
            "Requirement already satisfied: numpy>=1.21.0 in /usr/local/lib/python3.11/dist-packages (from gymnasium[classic_control]) (1.26.4)\n",
            "Requirement already satisfied: cloudpickle>=1.2.0 in /usr/local/lib/python3.11/dist-packages (from gymnasium[classic_control]) (3.1.1)\n",
            "Requirement already satisfied: typing-extensions>=4.3.0 in /usr/local/lib/python3.11/dist-packages (from gymnasium[classic_control]) (4.12.2)\n",
            "Requirement already satisfied: farama-notifications>=0.0.1 in /usr/local/lib/python3.11/dist-packages (from gymnasium[classic_control]) (0.0.4)\n",
            "Requirement already satisfied: pygame>=2.1.3 in /usr/local/lib/python3.11/dist-packages (from gymnasium[classic_control]) (2.6.1)\n",
            "Collecting backtrader\n",
            "  Downloading backtrader-1.9.78.123-py2.py3-none-any.whl.metadata (6.8 kB)\n",
            "Downloading backtrader-1.9.78.123-py2.py3-none-any.whl (419 kB)\n",
            "\u001b[2K   \u001b[90m━━━━━━━━━━━━━━━━━━━━━━━━━━━━━━━━━━━━━━━━\u001b[0m \u001b[32m419.5/419.5 kB\u001b[0m \u001b[31m8.9 MB/s\u001b[0m eta \u001b[36m0:00:00\u001b[0m\n",
            "\u001b[?25hInstalling collected packages: backtrader\n",
            "Successfully installed backtrader-1.9.78.123\n",
            "Requirement already satisfied: yfinance in /usr/local/lib/python3.11/dist-packages (0.2.54)\n",
            "Requirement already satisfied: pandas>=1.3.0 in /usr/local/lib/python3.11/dist-packages (from yfinance) (2.2.2)\n",
            "Requirement already satisfied: numpy>=1.16.5 in /usr/local/lib/python3.11/dist-packages (from yfinance) (1.26.4)\n",
            "Requirement already satisfied: requests>=2.31 in /usr/local/lib/python3.11/dist-packages (from yfinance) (2.32.3)\n",
            "Requirement already satisfied: multitasking>=0.0.7 in /usr/local/lib/python3.11/dist-packages (from yfinance) (0.0.11)\n",
            "Requirement already satisfied: platformdirs>=2.0.0 in /usr/local/lib/python3.11/dist-packages (from yfinance) (4.3.6)\n",
            "Requirement already satisfied: pytz>=2022.5 in /usr/local/lib/python3.11/dist-packages (from yfinance) (2025.1)\n",
            "Requirement already satisfied: frozendict>=2.3.4 in /usr/local/lib/python3.11/dist-packages (from yfinance) (2.4.6)\n",
            "Requirement already satisfied: peewee>=3.16.2 in /usr/local/lib/python3.11/dist-packages (from yfinance) (3.17.9)\n",
            "Requirement already satisfied: beautifulsoup4>=4.11.1 in /usr/local/lib/python3.11/dist-packages (from yfinance) (4.13.3)\n",
            "Requirement already satisfied: soupsieve>1.2 in /usr/local/lib/python3.11/dist-packages (from beautifulsoup4>=4.11.1->yfinance) (2.6)\n",
            "Requirement already satisfied: typing-extensions>=4.0.0 in /usr/local/lib/python3.11/dist-packages (from beautifulsoup4>=4.11.1->yfinance) (4.12.2)\n",
            "Requirement already satisfied: python-dateutil>=2.8.2 in /usr/local/lib/python3.11/dist-packages (from pandas>=1.3.0->yfinance) (2.8.2)\n",
            "Requirement already satisfied: tzdata>=2022.7 in /usr/local/lib/python3.11/dist-packages (from pandas>=1.3.0->yfinance) (2025.1)\n",
            "Requirement already satisfied: charset-normalizer<4,>=2 in /usr/local/lib/python3.11/dist-packages (from requests>=2.31->yfinance) (3.4.1)\n",
            "Requirement already satisfied: idna<4,>=2.5 in /usr/local/lib/python3.11/dist-packages (from requests>=2.31->yfinance) (3.10)\n",
            "Requirement already satisfied: urllib3<3,>=1.21.1 in /usr/local/lib/python3.11/dist-packages (from requests>=2.31->yfinance) (2.3.0)\n",
            "Requirement already satisfied: certifi>=2017.4.17 in /usr/local/lib/python3.11/dist-packages (from requests>=2.31->yfinance) (2025.1.31)\n",
            "Requirement already satisfied: six>=1.5 in /usr/local/lib/python3.11/dist-packages (from python-dateutil>=2.8.2->pandas>=1.3.0->yfinance) (1.17.0)\n",
            "Requirement already satisfied: matplotlib in /usr/local/lib/python3.11/dist-packages (3.10.0)\n",
            "Requirement already satisfied: contourpy>=1.0.1 in /usr/local/lib/python3.11/dist-packages (from matplotlib) (1.3.1)\n",
            "Requirement already satisfied: cycler>=0.10 in /usr/local/lib/python3.11/dist-packages (from matplotlib) (0.12.1)\n",
            "Requirement already satisfied: fonttools>=4.22.0 in /usr/local/lib/python3.11/dist-packages (from matplotlib) (4.56.0)\n",
            "Requirement already satisfied: kiwisolver>=1.3.1 in /usr/local/lib/python3.11/dist-packages (from matplotlib) (1.4.8)\n",
            "Requirement already satisfied: numpy>=1.23 in /usr/local/lib/python3.11/dist-packages (from matplotlib) (1.26.4)\n",
            "Requirement already satisfied: packaging>=20.0 in /usr/local/lib/python3.11/dist-packages (from matplotlib) (24.2)\n",
            "Requirement already satisfied: pillow>=8 in /usr/local/lib/python3.11/dist-packages (from matplotlib) (11.1.0)\n",
            "Requirement already satisfied: pyparsing>=2.3.1 in /usr/local/lib/python3.11/dist-packages (from matplotlib) (3.2.1)\n",
            "Requirement already satisfied: python-dateutil>=2.7 in /usr/local/lib/python3.11/dist-packages (from matplotlib) (2.8.2)\n",
            "Requirement already satisfied: six>=1.5 in /usr/local/lib/python3.11/dist-packages (from python-dateutil>=2.7->matplotlib) (1.17.0)\n"
          ]
        }
      ]
    },
    {
      "cell_type": "markdown",
      "source": [
        "#### **2. 導入庫**\n"
      ],
      "metadata": {
        "id": "QsBUT1pALWNC"
      }
    },
    {
      "cell_type": "code",
      "source": [
        "import pandas as pd\n",
        "import numpy as np\n",
        "import matplotlib.pyplot as plt\n",
        "import yfinance as yf\n",
        "import backtrader as bt\n",
        "from stable_baselines3 import PPO\n",
        "from stable_baselines3.common.vec_env import DummyVecEnv\n",
        "from stable_baselines3.common import env_checker\n",
        "from stable_baselines3.common.policies import ActorCriticCnnPolicy, ActorCriticPolicy\n",
        "from stable_baselines3.common.torch_layers import BaseFeaturesExtractor\n",
        "import gymnasium as gym\n",
        "from gymnasium import spaces\n",
        "import torch\n",
        "import torch.nn as nn"
      ],
      "metadata": {
        "id": "M2jWVesfLZy7"
      },
      "execution_count": 45,
      "outputs": []
    },
    {
      "cell_type": "markdown",
      "source": [
        "### **三、數據準備**\n",
        "\n",
        "#### **1. 獲取股票數據**\n",
        "\n",
        "我們將使用 `yfinance` 下載蘋果公司（AAPL）的歷史數據。"
      ],
      "metadata": {
        "id": "IaiLx-gELgME"
      }
    },
    {
      "cell_type": "code",
      "source": [
        "data = yf.download('AAPL', start='2015-01-01', end='2021-01-01', multi_level_index=False)\n",
        "data.reset_index(inplace=True)\n",
        "data['Date'] = pd.to_datetime(data['Date'])  # 確保 Date 列為 datetime 類型\n",
        "data = data[['Date', 'Open', 'High', 'Low', 'Close', 'Volume']]\n",
        "data.set_index('Date', inplace=True)"
      ],
      "metadata": {
        "colab": {
          "base_uri": "https://localhost:8080/"
        },
        "id": "3Q59_ZzOLjZI",
        "outputId": "a35c7251-93cb-40f3-f032-7b4d700f3210"
      },
      "execution_count": 46,
      "outputs": [
        {
          "output_type": "stream",
          "name": "stderr",
          "text": [
            "\r[*********************100%***********************]  1 of 1 completed\n"
          ]
        }
      ]
    },
    {
      "cell_type": "markdown",
      "source": [
        "#### **2. 數據預處理**\n"
      ],
      "metadata": {
        "id": "_BFJVWSSLm_u"
      }
    },
    {
      "cell_type": "code",
      "source": [
        "data['Open'] = data['Open'].astype('float32')\n",
        "data['High'] = data['High'].astype('float32')\n",
        "data['Low'] = data['Low'].astype('float32')\n",
        "data['Close'] = data['Close'].astype('float32')\n",
        "data['Volume'] = data['Volume'].astype('float32')"
      ],
      "metadata": {
        "id": "fvP1oXZkLqIk"
      },
      "execution_count": 47,
      "outputs": []
    },
    {
      "cell_type": "markdown",
      "source": [
        "### **四、定義交易環境**\n",
        "\n",
        "在這一部分，我們將修改交易環境，使代理在每個時間步能夠觀察過去 15 天的數據。\n",
        "\n",
        "#### **1. 環境的結構**\n",
        "\n",
        "- **觀測空間（Observation Space）**：包含過去 15 天的市場數據，每天有 5 個特徵（開、高、低、收、量），因此觀測值的形狀為 `(15, 5)`。\n",
        "- **行動空間（Action Space）**：代理可以採取的行動，包括買入、賣出和持有。\n",
        "- **環境狀態**：追蹤代理的持倉、現金餘額和資產淨值。\n",
        "- **獎勵函數**：根據代理的資產淨值變化計算獎勵，鼓勵代理增加資產淨值。\n",
        "\n",
        "#### **2. 環境的實作**"
      ],
      "metadata": {
        "id": "6ODDJjuHLtee"
      }
    },
    {
      "cell_type": "code",
      "source": [
        "class TradingEnv(gym.Env):\n",
        "    \"\"\"自訂的交易環境，用於強化學習模型訓練，代理觀察過去 15 天的數據\"\"\"\n",
        "\n",
        "    def __init__(self, data, window_size=10, cash=10000, commission=0.001):\n",
        "        super(TradingEnv, self).__init__()\n",
        "        self.data = data.reset_index()\n",
        "        self.cash = cash  # 初始現金\n",
        "        self.initial_cash = cash  # 紀錄初始現金\n",
        "        self.commission = commission  # 交易手續費\n",
        "        self.window_size = window_size  # 觀察窗口大小\n",
        "        self.current_step = self.window_size  # 開始位置\n",
        "\n",
        "        # 定義觀測空間和行動空間\n",
        "        self.observation_space = spaces.Box(\n",
        "            low=-np.inf, high=np.inf, shape=(self.window_size, 5), dtype=np.float32\n",
        "        )\n",
        "        self.action_space = spaces.Discrete(3)  # 0: 持有, 1: 買入, 2: 賣出\n",
        "\n",
        "        # 初始化帳戶資訊\n",
        "        self.position = 0  # 持有的股票數量\n",
        "        self.net_worth = self.cash  # 資產淨值\n",
        "        self.prev_net_worth = self.cash  # 前一步的資產淨值\n",
        "\n",
        "        # 紀錄交易訊號\n",
        "        self.trades = []\n",
        "\n",
        "    def _get_obs(self):\n",
        "        \"\"\"獲取當前的觀測值\"\"\"\n",
        "        obs = self.data.loc[self.current_step - self.window_size:self.current_step - 1, ['Open', 'High', 'Low', 'Close', 'Volume']].values\n",
        "        return obs\n",
        "\n",
        "    def reset(self, *, seed=None, options=None):\n",
        "        \"\"\"重置環境到初始狀態\"\"\"\n",
        "        super().reset(seed=seed)\n",
        "        self.current_step = self.window_size\n",
        "        self.position = 0\n",
        "        self.cash = self.initial_cash\n",
        "        self.net_worth = self.cash\n",
        "        self.prev_net_worth = self.cash\n",
        "        self.trades = []  # 重置交易紀錄\n",
        "        obs = self._get_obs()\n",
        "        info = {}\n",
        "        return obs, info\n",
        "\n",
        "    def step(self, action):\n",
        "        \"\"\"執行一個行動，並返回新的狀態和獎勵\"\"\"\n",
        "        current_price = self.data.loc[self.current_step, 'Close']\n",
        "\n",
        "        # 記錄交易訊號\n",
        "        date = self.data.loc[self.current_step, 'Date']\n",
        "        self.trades.append({'Date': date, 'Action': action})\n",
        "\n",
        "        # 計算交易手續費\n",
        "        commission = 0\n",
        "\n",
        "        if action == 1:  # 買入\n",
        "            # 計算可買入的最大股數\n",
        "            max_shares = int(self.cash / (current_price * (1 + self.commission)))\n",
        "            if max_shares > 0:\n",
        "                # 更新帳戶餘額和持倉\n",
        "                cost = max_shares * current_price * (1 + self.commission)\n",
        "                self.cash -= cost\n",
        "                self.position += max_shares\n",
        "                commission = cost * self.commission\n",
        "        elif action == 2:  # 賣出\n",
        "            if self.position > 0:\n",
        "                # 更新帳戶餘額和持倉\n",
        "                revenue = self.position * current_price * (1 - self.commission)\n",
        "                self.cash += revenue\n",
        "                commission = self.position * current_price * self.commission\n",
        "                self.position = 0\n",
        "        # action == 0 表示持有，不執行任何操作\n",
        "\n",
        "        self.current_step += 1\n",
        "\n",
        "        # 更新資產淨值\n",
        "        self.net_worth = self.cash + self.position * current_price\n",
        "\n",
        "        # 計算獎勵\n",
        "        reward = self.net_worth - self.prev_net_worth - commission\n",
        "        self.prev_net_worth = self.net_worth\n",
        "\n",
        "        # 判斷是否終止\n",
        "        if self.current_step >= len(self.data):\n",
        "            terminated = True\n",
        "        else:\n",
        "            terminated = False\n",
        "        truncated = False\n",
        "\n",
        "        obs = self._get_obs()\n",
        "        info = {}\n",
        "\n",
        "        return obs, reward, terminated, truncated, info\n",
        "\n",
        "    def render(self):\n",
        "        \"\"\"渲染環境（此處未實作）\"\"\"\n",
        "        pass"
      ],
      "metadata": {
        "id": "VQ0Srg9PLxFD"
      },
      "execution_count": 48,
      "outputs": []
    },
    {
      "cell_type": "markdown",
      "source": [
        "#### **3. 實作內容說明**\n",
        "\n",
        "- **`window_size`**：新增一個參數，指定觀察窗口的大小，這裡設定為 15。\n",
        "- **`observation_space`**：觀測空間的形狀變為 `(window_size, 5)`。\n",
        "- **`_get_obs` 方法**：\n",
        "  - 返回過去 15 天的市場數據作為觀測值。\n",
        "- **`current_step`**：\n",
        "  - 初始化為 `window_size`，以確保有足夠的歷史數據。\n",
        "- **`reset` 和 `step` 方法**：\n",
        "  - 相應地調整 `current_step`，確保索引不超出數據範圍。"
      ],
      "metadata": {
        "id": "UF1EmqNIL2OC"
      }
    },
    {
      "cell_type": "markdown",
      "source": [
        "### **五、定義自訂的特徵提取器**\n",
        "\n",
        "為了使模型能夠處理我們的高維度觀測值（`(15, 5)`），我們需要自訂一個特徵提取器，使用 LSTM 處理時間序列數據。\n"
      ],
      "metadata": {
        "id": "SBlCqo62L5t8"
      }
    },
    {
      "cell_type": "code",
      "source": [
        "class CustomLSTMFeatureExtractor(BaseFeaturesExtractor):\n",
        "    \"\"\"\n",
        "    自訂的特徵提取器，使用 LSTM 處理時間序列數據\n",
        "    \"\"\"\n",
        "\n",
        "    def __init__(self, observation_space: spaces.Box, features_dim: int = 128):\n",
        "        super(CustomLSTMFeatureExtractor, self).__init__(observation_space, features_dim)\n",
        "        self.lstm = nn.LSTM(input_size=5, hidden_size=features_dim, batch_first=True)\n",
        "\n",
        "    def forward(self, observations: torch.Tensor) -> torch.Tensor:\n",
        "        # observations shape: (batch_size, window_size, 5)\n",
        "        lstm_output, (h_n, c_n) = self.lstm(observations)\n",
        "        # 我們取最後一個時間步的輸出作為特徵\n",
        "        return h_n[-1]"
      ],
      "metadata": {
        "id": "hrFBBMdpL8Wy"
      },
      "execution_count": 49,
      "outputs": []
    },
    {
      "cell_type": "markdown",
      "source": [
        "- **說明**：\n",
        "  - 我們使用 `nn.LSTM` 處理觀測值。\n",
        "  - 將輸出的隱藏狀態作為特徵，用於後續的策略網絡。\n",
        "\n",
        "---\n",
        "\n",
        "### **六、訓練強化學習模型**\n",
        "\n",
        "#### **1. 創建環境實例**"
      ],
      "metadata": {
        "id": "FnDSvqMBL__T"
      }
    },
    {
      "cell_type": "code",
      "source": [
        "env = TradingEnv(data)\n"
      ],
      "metadata": {
        "id": "O7Ma61PXMC1Y"
      },
      "execution_count": 50,
      "outputs": []
    },
    {
      "cell_type": "markdown",
      "source": [
        "#### **2. 檢查環境**\n"
      ],
      "metadata": {
        "id": "Ch3HT4f1MF2-"
      }
    },
    {
      "cell_type": "code",
      "source": [
        "env_checker.check_env(env)\n"
      ],
      "metadata": {
        "colab": {
          "base_uri": "https://localhost:8080/"
        },
        "id": "sZitlGWZMIlH",
        "outputId": "707e1ab0-1f05-4329-fbbc-08cb3a5c1e6d"
      },
      "execution_count": 51,
      "outputs": [
        {
          "output_type": "stream",
          "name": "stderr",
          "text": [
            "/usr/local/lib/python3.11/dist-packages/stable_baselines3/common/env_checker.py:272: UserWarning: Your observation  has an unconventional shape (neither an image, nor a 1D vector). We recommend you to flatten the observation to have only a 1D vector or use a custom policy to properly process the data.\n",
            "  warnings.warn(\n"
          ]
        }
      ]
    },
    {
      "cell_type": "markdown",
      "source": [
        "#### **3. 包裝環境**\n"
      ],
      "metadata": {
        "id": "GmsPfA2oMK42"
      }
    },
    {
      "cell_type": "code",
      "source": [
        "env = DummyVecEnv([lambda: env])\n"
      ],
      "metadata": {
        "id": "g-BL5ltvMNRb"
      },
      "execution_count": 52,
      "outputs": []
    },
    {
      "cell_type": "markdown",
      "source": [
        "#### **4. 定義政策網絡**\n",
        "\n",
        "我們需要定義一個自訂的政策網絡，使用我們的特徵提取器。"
      ],
      "metadata": {
        "id": "klrsq-KYMP0y"
      }
    },
    {
      "cell_type": "code",
      "source": [
        "policy_kwargs = dict(\n",
        "    features_extractor_class=CustomLSTMFeatureExtractor,\n",
        "    features_extractor_kwargs=dict(features_dim=128),\n",
        ")"
      ],
      "metadata": {
        "id": "qjWmZXEGMZjO"
      },
      "execution_count": 53,
      "outputs": []
    },
    {
      "cell_type": "markdown",
      "source": [
        "#### **5. 訓練模型**\n"
      ],
      "metadata": {
        "id": "SfXQgKPwMbtd"
      }
    },
    {
      "cell_type": "code",
      "source": [
        "model = PPO('MlpPolicy', env, policy_kwargs=policy_kwargs, verbose=1)\n",
        "model.learn(total_timesteps=10000)"
      ],
      "metadata": {
        "colab": {
          "base_uri": "https://localhost:8080/"
        },
        "id": "TNryfTB6Me46",
        "outputId": "4ce763bc-ad1e-4eae-c96a-2c1cc57b98bf"
      },
      "execution_count": 54,
      "outputs": [
        {
          "output_type": "stream",
          "name": "stderr",
          "text": [
            "/usr/local/lib/python3.11/dist-packages/stable_baselines3/common/on_policy_algorithm.py:150: UserWarning: You are trying to run PPO on the GPU, but it is primarily intended to run on the CPU when not using a CNN policy (you are using ActorCriticPolicy which should be a MlpPolicy). See https://github.com/DLR-RM/stable-baselines3/issues/1245 for more info. You can pass `device='cpu'` or `export CUDA_VISIBLE_DEVICES=` to force using the CPU.Note: The model will train, but the GPU utilization will be poor and the training might take longer than on CPU.\n",
            "  warnings.warn(\n"
          ]
        },
        {
          "output_type": "stream",
          "name": "stdout",
          "text": [
            "Using cuda device\n",
            "-----------------------------\n",
            "| time/              |      |\n",
            "|    fps             | 437  |\n",
            "|    iterations      | 1    |\n",
            "|    time_elapsed    | 4    |\n",
            "|    total_timesteps | 2048 |\n",
            "-----------------------------\n",
            "-----------------------------------------\n",
            "| time/                   |             |\n",
            "|    fps                  | 367         |\n",
            "|    iterations           | 2           |\n",
            "|    time_elapsed         | 11          |\n",
            "|    total_timesteps      | 4096        |\n",
            "| train/                  |             |\n",
            "|    approx_kl            | 0.006041045 |\n",
            "|    clip_fraction        | 0.0568      |\n",
            "|    clip_range           | 0.2         |\n",
            "|    entropy_loss         | -1.09       |\n",
            "|    explained_variance   | 0           |\n",
            "|    learning_rate        | 0.0003      |\n",
            "|    loss                 | 4.88e+04    |\n",
            "|    n_updates            | 10          |\n",
            "|    policy_gradient_loss | -0.00108    |\n",
            "|    value_loss           | 1.32e+05    |\n",
            "-----------------------------------------\n",
            "------------------------------------------\n",
            "| time/                   |              |\n",
            "|    fps                  | 359          |\n",
            "|    iterations           | 3            |\n",
            "|    time_elapsed         | 17           |\n",
            "|    total_timesteps      | 6144         |\n",
            "| train/                  |              |\n",
            "|    approx_kl            | 0.0017730249 |\n",
            "|    clip_fraction        | 0.0247       |\n",
            "|    clip_range           | 0.2          |\n",
            "|    entropy_loss         | -1.1         |\n",
            "|    explained_variance   | 0            |\n",
            "|    learning_rate        | 0.0003       |\n",
            "|    loss                 | 7.74e+04     |\n",
            "|    n_updates            | 20           |\n",
            "|    policy_gradient_loss | -0.000874    |\n",
            "|    value_loss           | 1.98e+05     |\n",
            "------------------------------------------\n",
            "-------------------------------------------\n",
            "| time/                   |               |\n",
            "|    fps                  | 347           |\n",
            "|    iterations           | 4             |\n",
            "|    time_elapsed         | 23            |\n",
            "|    total_timesteps      | 8192          |\n",
            "| train/                  |               |\n",
            "|    approx_kl            | 2.8306036e-05 |\n",
            "|    clip_fraction        | 0             |\n",
            "|    clip_range           | 0.2           |\n",
            "|    entropy_loss         | -1.1          |\n",
            "|    explained_variance   | 0             |\n",
            "|    learning_rate        | 0.0003        |\n",
            "|    loss                 | 3.25e+05      |\n",
            "|    n_updates            | 30            |\n",
            "|    policy_gradient_loss | 5.85e-05      |\n",
            "|    value_loss           | 5.22e+05      |\n",
            "-------------------------------------------\n",
            "------------------------------------------\n",
            "| time/                   |              |\n",
            "|    fps                  | 347          |\n",
            "|    iterations           | 5            |\n",
            "|    time_elapsed         | 29           |\n",
            "|    total_timesteps      | 10240        |\n",
            "| train/                  |              |\n",
            "|    approx_kl            | 0.0056370134 |\n",
            "|    clip_fraction        | 0.0685       |\n",
            "|    clip_range           | 0.2          |\n",
            "|    entropy_loss         | -1.09        |\n",
            "|    explained_variance   | -1.19e-07    |\n",
            "|    learning_rate        | 0.0003       |\n",
            "|    loss                 | 7.24e+04     |\n",
            "|    n_updates            | 40           |\n",
            "|    policy_gradient_loss | -0.00162     |\n",
            "|    value_loss           | 1.37e+05     |\n",
            "------------------------------------------\n"
          ]
        },
        {
          "output_type": "execute_result",
          "data": {
            "text/plain": [
              "<stable_baselines3.ppo.ppo.PPO at 0x7c63f853a850>"
            ]
          },
          "metadata": {},
          "execution_count": 54
        }
      ]
    },
    {
      "cell_type": "markdown",
      "source": [
        "### **七、測試模型並收集交易訊號**"
      ],
      "metadata": {
        "id": "Nfe_XTnfMioP"
      }
    },
    {
      "cell_type": "code",
      "source": [
        "env.envs[0].reset()\n",
        "for i in range(env.envs[0].window_size, len(data)):\n",
        "    obs = env.envs[0]._get_obs()\n",
        "    # 需要將觀測值轉換為 tensor 並添加 batch 維度\n",
        "    action, _states = model.predict(obs, deterministic=True)\n",
        "    obs, rewards, dones, truncated, info = env.envs[0].step(action)\n",
        "    if dones:\n",
        "        break"
      ],
      "metadata": {
        "id": "zjQvalr8MoEi"
      },
      "execution_count": 55,
      "outputs": []
    },
    {
      "cell_type": "markdown",
      "source": [
        "- **說明**：\n",
        "  - 在測試階段，我們使用 `deterministic=True`，以獲取策略的確定性行動。\n",
        "  - 我們需要確保觀測值的格式正確，與訓練時一致。"
      ],
      "metadata": {
        "id": "9CHlM37VMsMS"
      }
    },
    {
      "cell_type": "markdown",
      "source": [
        "### **八、在 Backtrader 上顯示買賣點**\n",
        "​\n",
        "#### **1. 獲取交易紀錄並合併數據**"
      ],
      "metadata": {
        "id": "qBnNk2DUMw3g"
      }
    },
    {
      "cell_type": "code",
      "source": [
        "# 從環境中獲取交易紀錄\n",
        "trades = pd.DataFrame(env.envs[0].trades)\n",
        "\n",
        "# 將交易紀錄與原始數據合併\n",
        "data.reset_index(inplace=True)\n",
        "merged_data = pd.merge(data, trades, on='Date', how='left')\n",
        "merged_data['Action'].fillna(0, inplace=True)\n",
        "\n",
        "# 確保 Date 列為 datetime 類型\n",
        "merged_data['Date'] = pd.to_datetime(merged_data['Date'])"
      ],
      "metadata": {
        "colab": {
          "base_uri": "https://localhost:8080/"
        },
        "id": "DlRV2dMvMzry",
        "outputId": "8bf16cc7-70c6-41a5-81f6-0cd2d054e849"
      },
      "execution_count": 56,
      "outputs": [
        {
          "output_type": "stream",
          "name": "stderr",
          "text": [
            "<ipython-input-56-d41afca6bfd7>:7: FutureWarning: A value is trying to be set on a copy of a DataFrame or Series through chained assignment using an inplace method.\n",
            "The behavior will change in pandas 3.0. This inplace method will never work because the intermediate object on which we are setting values always behaves as a copy.\n",
            "\n",
            "For example, when doing 'df[col].method(value, inplace=True)', try using 'df.method({col: value}, inplace=True)' or df[col] = df[col].method(value) instead, to perform the operation inplace on the original object.\n",
            "\n",
            "\n",
            "  merged_data['Action'].fillna(0, inplace=True)\n"
          ]
        }
      ]
    },
    {
      "cell_type": "markdown",
      "source": [
        "#### **2. 定義 Backtrader 策略**\n"
      ],
      "metadata": {
        "id": "qSuf9XsTM2w_"
      }
    },
    {
      "cell_type": "code",
      "source": [
        "class RLStrategy(bt.Strategy):\n",
        "    \"\"\"自訂的策略，用於在圖表上顯示買賣點\"\"\"\n",
        "\n",
        "    def __init__(self):\n",
        "        self.dataclose = self.datas[0].close\n",
        "\n",
        "    def next(self):\n",
        "        # 根據交易紀錄執行買賣\n",
        "        idx = len(self) - 1  # 當前索引\n",
        "        action = merged_data.loc[idx, 'Action']\n",
        "        if action == 1 and self.position.size == 0:\n",
        "            # 買入\n",
        "            self.buy(size=100)\n",
        "            print(action,)\n",
        "        elif action == 2 and self.position.size > 0:\n",
        "            # 賣出\n",
        "            self.sell(size=self.position.size)\n",
        "            print(action,)"
      ],
      "metadata": {
        "id": "0Q0CmaORM5zK"
      },
      "execution_count": 57,
      "outputs": []
    },
    {
      "cell_type": "markdown",
      "source": [
        "#### **3. 設置 Backtrader 並進行回測**\n"
      ],
      "metadata": {
        "id": "51XdksZlM9E6"
      }
    },
    {
      "cell_type": "code",
      "source": [
        "cerebro = bt.Cerebro()\n",
        "# 在添加數據時，指定 datetime 列\n",
        "data_bt = bt.feeds.PandasData(\n",
        "    dataname=merged_data,\n",
        "    datetime='Date',\n",
        "    open='Open',\n",
        "    high='High',\n",
        "    low='Low',\n",
        "    close='Close',\n",
        "    volume='Volume',\n",
        "    openinterest=-1,\n",
        "    timeframe=bt.TimeFrame.Days\n",
        ")\n",
        "cerebro.adddata(data_bt)\n",
        "cerebro.addstrategy(RLStrategy)\n",
        "cerebro.broker.setcash(10000)\n",
        "cerebro.broker.setcommission(commission=0.001)\n",
        "\n",
        "print('初始資金: %.2f' % cerebro.broker.getvalue())\n",
        "cerebro.run()\n",
        "print('最終資金: %.2f' % cerebro.broker.getvalue())"
      ],
      "metadata": {
        "id": "rz3RBrSSNARK",
        "outputId": "b6569ebd-8160-414a-80ad-868a03a1c22b",
        "colab": {
          "base_uri": "https://localhost:8080/"
        }
      },
      "execution_count": 58,
      "outputs": [
        {
          "output_type": "stream",
          "name": "stdout",
          "text": [
            "初始資金: 10000.00\n",
            "最終資金: 10000.00\n"
          ]
        }
      ]
    },
    {
      "cell_type": "markdown",
      "source": [
        "#### **4. 繪製圖表**\n"
      ],
      "metadata": {
        "id": "4dEYOZ7FNEq2"
      }
    },
    {
      "cell_type": "code",
      "source": [
        "# 繪製圖表\n",
        "%matplotlib inline\n",
        "plt.rcParams['figure.figsize'] = [20, 16]\n",
        "plt.rcParams.update({'font.size': 12})\n",
        "img = cerebro.plot(iplot = False)\n",
        "img[0][0].savefig('backtrader_ppo_lstm.png')"
      ],
      "metadata": {
        "id": "3wOwoWBjNP4X",
        "outputId": "66d93297-08e2-4b9d-f9ec-3417b09d69fc",
        "colab": {
          "base_uri": "https://localhost:8080/",
          "height": 923
        }
      },
      "execution_count": 59,
      "outputs": [
        {
          "output_type": "display_data",
          "data": {
            "text/plain": [
              "<Figure size 2000x1600 with 4 Axes>"
            ],
            "image/png": "[encoded data removed]"
          },
          "metadata": {}
        }
      ]
    },
    {
      "cell_type": "markdown",
      "source": [
        "### **九、結果分析**\n",
        "\n",
        "通過 Backtrader 的圖表，我們可以看到模型在測試期間的買賣點，以及資產淨值的變化。這有助於我們直觀地了解模型的交易決策和績效。\n",
        "\n",
        "- **買賣點**：在圖表上，買入點和賣出點會以特定的標記顯示，方便我們分析代理的交易行為。\n",
        "- **資產淨值曲線**：觀察資產淨值的走勢，評估策略的收益和風險。\n",
        "\n",
        "---\n",
        "\n",
        "### **十、完整程式碼**\n",
        "\n",
        "以下是完整的程式碼，您可以直接在 Google Colab 上執行。\n"
      ],
      "metadata": {
        "id": "Mrc32EcDNUwa"
      }
    },
    {
      "cell_type": "code",
      "execution_count": 60,
      "metadata": {
        "colab": {
          "base_uri": "https://localhost:8080/",
          "height": 1000
        },
        "id": "19FN0KeJEhOP",
        "outputId": "d73edecd-58b7-4ca4-ee56-a193eea7f98a"
      },
      "outputs": [
        {
          "output_type": "stream",
          "name": "stdout",
          "text": [
            "Requirement already satisfied: stable-baselines3 in /usr/local/lib/python3.11/dist-packages (2.5.0)\n",
            "Requirement already satisfied: gymnasium<1.1.0,>=0.29.1 in /usr/local/lib/python3.11/dist-packages (from stable-baselines3) (1.0.0)\n",
            "Requirement already satisfied: numpy<3.0,>=1.20 in /usr/local/lib/python3.11/dist-packages (from stable-baselines3) (1.26.4)\n",
            "Requirement already satisfied: torch<3.0,>=2.3 in /usr/local/lib/python3.11/dist-packages (from stable-baselines3) (2.5.1+cu124)\n",
            "Requirement already satisfied: cloudpickle in /usr/local/lib/python3.11/dist-packages (from stable-baselines3) (3.1.1)\n",
            "Requirement already satisfied: pandas in /usr/local/lib/python3.11/dist-packages (from stable-baselines3) (2.2.2)\n",
            "Requirement already satisfied: matplotlib in /usr/local/lib/python3.11/dist-packages (from stable-baselines3) (3.10.0)\n",
            "Requirement already satisfied: typing-extensions>=4.3.0 in /usr/local/lib/python3.11/dist-packages (from gymnasium<1.1.0,>=0.29.1->stable-baselines3) (4.12.2)\n",
            "Requirement already satisfied: farama-notifications>=0.0.1 in /usr/local/lib/python3.11/dist-packages (from gymnasium<1.1.0,>=0.29.1->stable-baselines3) (0.0.4)\n",
            "Requirement already satisfied: filelock in /usr/local/lib/python3.11/dist-packages (from torch<3.0,>=2.3->stable-baselines3) (3.17.0)\n",
            "Requirement already satisfied: networkx in /usr/local/lib/python3.11/dist-packages (from torch<3.0,>=2.3->stable-baselines3) (3.4.2)\n",
            "Requirement already satisfied: jinja2 in /usr/local/lib/python3.11/dist-packages (from torch<3.0,>=2.3->stable-baselines3) (3.1.5)\n",
            "Requirement already satisfied: fsspec in /usr/local/lib/python3.11/dist-packages (from torch<3.0,>=2.3->stable-baselines3) (2024.10.0)\n",
            "Requirement already satisfied: nvidia-cuda-nvrtc-cu12==12.4.127 in /usr/local/lib/python3.11/dist-packages (from torch<3.0,>=2.3->stable-baselines3) (12.4.127)\n",
            "Requirement already satisfied: nvidia-cuda-runtime-cu12==12.4.127 in /usr/local/lib/python3.11/dist-packages (from torch<3.0,>=2.3->stable-baselines3) (12.4.127)\n",
            "Requirement already satisfied: nvidia-cuda-cupti-cu12==12.4.127 in /usr/local/lib/python3.11/dist-packages (from torch<3.0,>=2.3->stable-baselines3) (12.4.127)\n",
            "Requirement already satisfied: nvidia-cudnn-cu12==9.1.0.70 in /usr/local/lib/python3.11/dist-packages (from torch<3.0,>=2.3->stable-baselines3) (9.1.0.70)\n",
            "Requirement already satisfied: nvidia-cublas-cu12==12.4.5.8 in /usr/local/lib/python3.11/dist-packages (from torch<3.0,>=2.3->stable-baselines3) (12.4.5.8)\n",
            "Requirement already satisfied: nvidia-cufft-cu12==11.2.1.3 in /usr/local/lib/python3.11/dist-packages (from torch<3.0,>=2.3->stable-baselines3) (11.2.1.3)\n",
            "Requirement already satisfied: nvidia-curand-cu12==10.3.5.147 in /usr/local/lib/python3.11/dist-packages (from torch<3.0,>=2.3->stable-baselines3) (10.3.5.147)\n",
            "Requirement already satisfied: nvidia-cusolver-cu12==11.6.1.9 in /usr/local/lib/python3.11/dist-packages (from torch<3.0,>=2.3->stable-baselines3) (11.6.1.9)\n",
            "Requirement already satisfied: nvidia-cusparse-cu12==12.3.1.170 in /usr/local/lib/python3.11/dist-packages (from torch<3.0,>=2.3->stable-baselines3) (12.3.1.170)\n",
            "Requirement already satisfied: nvidia-nccl-cu12==2.21.5 in /usr/local/lib/python3.11/dist-packages (from torch<3.0,>=2.3->stable-baselines3) (2.21.5)\n",
            "Requirement already satisfied: nvidia-nvtx-cu12==12.4.127 in /usr/local/lib/python3.11/dist-packages (from torch<3.0,>=2.3->stable-baselines3) (12.4.127)\n",
            "Requirement already satisfied: nvidia-nvjitlink-cu12==12.4.127 in /usr/local/lib/python3.11/dist-packages (from torch<3.0,>=2.3->stable-baselines3) (12.4.127)\n",
            "Requirement already satisfied: triton==3.1.0 in /usr/local/lib/python3.11/dist-packages (from torch<3.0,>=2.3->stable-baselines3) (3.1.0)\n",
            "Requirement already satisfied: sympy==1.13.1 in /usr/local/lib/python3.11/dist-packages (from torch<3.0,>=2.3->stable-baselines3) (1.13.1)\n",
            "Requirement already satisfied: mpmath<1.4,>=1.1.0 in /usr/local/lib/python3.11/dist-packages (from sympy==1.13.1->torch<3.0,>=2.3->stable-baselines3) (1.3.0)\n",
            "Requirement already satisfied: contourpy>=1.0.1 in /usr/local/lib/python3.11/dist-packages (from matplotlib->stable-baselines3) (1.3.1)\n",
            "Requirement already satisfied: cycler>=0.10 in /usr/local/lib/python3.11/dist-packages (from matplotlib->stable-baselines3) (0.12.1)\n",
            "Requirement already satisfied: fonttools>=4.22.0 in /usr/local/lib/python3.11/dist-packages (from matplotlib->stable-baselines3) (4.56.0)\n",
            "Requirement already satisfied: kiwisolver>=1.3.1 in /usr/local/lib/python3.11/dist-packages (from matplotlib->stable-baselines3) (1.4.8)\n",
            "Requirement already satisfied: packaging>=20.0 in /usr/local/lib/python3.11/dist-packages (from matplotlib->stable-baselines3) (24.2)\n",
            "Requirement already satisfied: pillow>=8 in /usr/local/lib/python3.11/dist-packages (from matplotlib->stable-baselines3) (11.1.0)\n",
            "Requirement already satisfied: pyparsing>=2.3.1 in /usr/local/lib/python3.11/dist-packages (from matplotlib->stable-baselines3) (3.2.1)\n",
            "Requirement already satisfied: python-dateutil>=2.7 in /usr/local/lib/python3.11/dist-packages (from matplotlib->stable-baselines3) (2.8.2)\n",
            "Requirement already satisfied: pytz>=2020.1 in /usr/local/lib/python3.11/dist-packages (from pandas->stable-baselines3) (2025.1)\n",
            "Requirement already satisfied: tzdata>=2022.7 in /usr/local/lib/python3.11/dist-packages (from pandas->stable-baselines3) (2025.1)\n",
            "Requirement already satisfied: six>=1.5 in /usr/local/lib/python3.11/dist-packages (from python-dateutil>=2.7->matplotlib->stable-baselines3) (1.17.0)\n",
            "Requirement already satisfied: MarkupSafe>=2.0 in /usr/local/lib/python3.11/dist-packages (from jinja2->torch<3.0,>=2.3->stable-baselines3) (3.0.2)\n",
            "Requirement already satisfied: gymnasium in /usr/local/lib/python3.11/dist-packages (1.0.0)\n",
            "Requirement already satisfied: numpy>=1.21.0 in /usr/local/lib/python3.11/dist-packages (from gymnasium) (1.26.4)\n",
            "Requirement already satisfied: cloudpickle>=1.2.0 in /usr/local/lib/python3.11/dist-packages (from gymnasium) (3.1.1)\n",
            "Requirement already satisfied: typing-extensions>=4.3.0 in /usr/local/lib/python3.11/dist-packages (from gymnasium) (4.12.2)\n",
            "Requirement already satisfied: farama-notifications>=0.0.1 in /usr/local/lib/python3.11/dist-packages (from gymnasium) (0.0.4)\n",
            "Requirement already satisfied: gymnasium[classic_control] in /usr/local/lib/python3.11/dist-packages (1.0.0)\n",
            "Requirement already satisfied: numpy>=1.21.0 in /usr/local/lib/python3.11/dist-packages (from gymnasium[classic_control]) (1.26.4)\n",
            "Requirement already satisfied: cloudpickle>=1.2.0 in /usr/local/lib/python3.11/dist-packages (from gymnasium[classic_control]) (3.1.1)\n",
            "Requirement already satisfied: typing-extensions>=4.3.0 in /usr/local/lib/python3.11/dist-packages (from gymnasium[classic_control]) (4.12.2)\n",
            "Requirement already satisfied: farama-notifications>=0.0.1 in /usr/local/lib/python3.11/dist-packages (from gymnasium[classic_control]) (0.0.4)\n",
            "Requirement already satisfied: pygame>=2.1.3 in /usr/local/lib/python3.11/dist-packages (from gymnasium[classic_control]) (2.6.1)\n",
            "Requirement already satisfied: backtrader in /usr/local/lib/python3.11/dist-packages (1.9.78.123)\n",
            "Requirement already satisfied: yfinance in /usr/local/lib/python3.11/dist-packages (0.2.54)\n",
            "Requirement already satisfied: pandas>=1.3.0 in /usr/local/lib/python3.11/dist-packages (from yfinance) (2.2.2)\n",
            "Requirement already satisfied: numpy>=1.16.5 in /usr/local/lib/python3.11/dist-packages (from yfinance) (1.26.4)\n",
            "Requirement already satisfied: requests>=2.31 in /usr/local/lib/python3.11/dist-packages (from yfinance) (2.32.3)\n",
            "Requirement already satisfied: multitasking>=0.0.7 in /usr/local/lib/python3.11/dist-packages (from yfinance) (0.0.11)\n",
            "Requirement already satisfied: platformdirs>=2.0.0 in /usr/local/lib/python3.11/dist-packages (from yfinance) (4.3.6)\n",
            "Requirement already satisfied: pytz>=2022.5 in /usr/local/lib/python3.11/dist-packages (from yfinance) (2025.1)\n",
            "Requirement already satisfied: frozendict>=2.3.4 in /usr/local/lib/python3.11/dist-packages (from yfinance) (2.4.6)\n",
            "Requirement already satisfied: peewee>=3.16.2 in /usr/local/lib/python3.11/dist-packages (from yfinance) (3.17.9)\n",
            "Requirement already satisfied: beautifulsoup4>=4.11.1 in /usr/local/lib/python3.11/dist-packages (from yfinance) (4.13.3)\n",
            "Requirement already satisfied: soupsieve>1.2 in /usr/local/lib/python3.11/dist-packages (from beautifulsoup4>=4.11.1->yfinance) (2.6)\n",
            "Requirement already satisfied: typing-extensions>=4.0.0 in /usr/local/lib/python3.11/dist-packages (from beautifulsoup4>=4.11.1->yfinance) (4.12.2)\n",
            "Requirement already satisfied: python-dateutil>=2.8.2 in /usr/local/lib/python3.11/dist-packages (from pandas>=1.3.0->yfinance) (2.8.2)\n",
            "Requirement already satisfied: tzdata>=2022.7 in /usr/local/lib/python3.11/dist-packages (from pandas>=1.3.0->yfinance) (2025.1)\n",
            "Requirement already satisfied: charset-normalizer<4,>=2 in /usr/local/lib/python3.11/dist-packages (from requests>=2.31->yfinance) (3.4.1)\n",
            "Requirement already satisfied: idna<4,>=2.5 in /usr/local/lib/python3.11/dist-packages (from requests>=2.31->yfinance) (3.10)\n",
            "Requirement already satisfied: urllib3<3,>=1.21.1 in /usr/local/lib/python3.11/dist-packages (from requests>=2.31->yfinance) (2.3.0)\n",
            "Requirement already satisfied: certifi>=2017.4.17 in /usr/local/lib/python3.11/dist-packages (from requests>=2.31->yfinance) (2025.1.31)\n",
            "Requirement already satisfied: six>=1.5 in /usr/local/lib/python3.11/dist-packages (from python-dateutil>=2.8.2->pandas>=1.3.0->yfinance) (1.17.0)\n",
            "Requirement already satisfied: matplotlib in /usr/local/lib/python3.11/dist-packages (3.10.0)\n",
            "Requirement already satisfied: contourpy>=1.0.1 in /usr/local/lib/python3.11/dist-packages (from matplotlib) (1.3.1)\n",
            "Requirement already satisfied: cycler>=0.10 in /usr/local/lib/python3.11/dist-packages (from matplotlib) (0.12.1)\n",
            "Requirement already satisfied: fonttools>=4.22.0 in /usr/local/lib/python3.11/dist-packages (from matplotlib) (4.56.0)\n",
            "Requirement already satisfied: kiwisolver>=1.3.1 in /usr/local/lib/python3.11/dist-packages (from matplotlib) (1.4.8)\n",
            "Requirement already satisfied: numpy>=1.23 in /usr/local/lib/python3.11/dist-packages (from matplotlib) (1.26.4)\n",
            "Requirement already satisfied: packaging>=20.0 in /usr/local/lib/python3.11/dist-packages (from matplotlib) (24.2)\n",
            "Requirement already satisfied: pillow>=8 in /usr/local/lib/python3.11/dist-packages (from matplotlib) (11.1.0)\n",
            "Requirement already satisfied: pyparsing>=2.3.1 in /usr/local/lib/python3.11/dist-packages (from matplotlib) (3.2.1)\n",
            "Requirement already satisfied: python-dateutil>=2.7 in /usr/local/lib/python3.11/dist-packages (from matplotlib) (2.8.2)\n",
            "Requirement already satisfied: six>=1.5 in /usr/local/lib/python3.11/dist-packages (from python-dateutil>=2.7->matplotlib) (1.17.0)\n"
          ]
        },
        {
          "output_type": "stream",
          "name": "stderr",
          "text": [
            "\r[*********************100%***********************]  1 of 1 completed\n",
            "/usr/local/lib/python3.11/dist-packages/stable_baselines3/common/env_checker.py:272: UserWarning: Your observation  has an unconventional shape (neither an image, nor a 1D vector). We recommend you to flatten the observation to have only a 1D vector or use a custom policy to properly process the data.\n",
            "  warnings.warn(\n",
            "<ipython-input-60-752e6a2eb512>:97: FutureWarning: Calling int on a single element Series is deprecated and will raise a TypeError in the future. Use int(ser.iloc[0]) instead\n",
            "  max_shares = int(self.cash / (current_price * (1 + self.commission)))\n"
          ]
        },
        {
          "output_type": "error",
          "ename": "AssertionError",
          "evalue": "The reward returned by `step()` must be a float",
          "traceback": [
            "\u001b[0;31m---------------------------------------------------------------------------\u001b[0m",
            "\u001b[0;31mAssertionError\u001b[0m                            Traceback (most recent call last)",
            "\u001b[0;32m<ipython-input-60-752e6a2eb512>\u001b[0m in \u001b[0;36m<cell line: 0>\u001b[0;34m()\u001b[0m\n\u001b[1;32m    156\u001b[0m \u001b[0;34m\u001b[0m\u001b[0m\n\u001b[1;32m    157\u001b[0m \u001b[0;31m# 檢查環境\u001b[0m\u001b[0;34m\u001b[0m\u001b[0;34m\u001b[0m\u001b[0m\n\u001b[0;32m--> 158\u001b[0;31m \u001b[0menv_checker\u001b[0m\u001b[0;34m.\u001b[0m\u001b[0mcheck_env\u001b[0m\u001b[0;34m(\u001b[0m\u001b[0menv\u001b[0m\u001b[0;34m)\u001b[0m\u001b[0;34m\u001b[0m\u001b[0;34m\u001b[0m\u001b[0m\n\u001b[0m\u001b[1;32m    159\u001b[0m \u001b[0;34m\u001b[0m\u001b[0m\n\u001b[1;32m    160\u001b[0m \u001b[0;31m# 包裝環境\u001b[0m\u001b[0;34m\u001b[0m\u001b[0;34m\u001b[0m\u001b[0m\n",
            "\u001b[0;32m/usr/local/lib/python3.11/dist-packages/stable_baselines3/common/env_checker.py\u001b[0m in \u001b[0;36mcheck_env\u001b[0;34m(env, warn, skip_render_check)\u001b[0m\n\u001b[1;32m    480\u001b[0m \u001b[0;34m\u001b[0m\u001b[0m\n\u001b[1;32m    481\u001b[0m     \u001b[0;31m# ============ Check the returned values ===============\u001b[0m\u001b[0;34m\u001b[0m\u001b[0;34m\u001b[0m\u001b[0m\n\u001b[0;32m--> 482\u001b[0;31m     \u001b[0m_check_returned_values\u001b[0m\u001b[0;34m(\u001b[0m\u001b[0menv\u001b[0m\u001b[0;34m,\u001b[0m \u001b[0mobservation_space\u001b[0m\u001b[0;34m,\u001b[0m \u001b[0maction_space\u001b[0m\u001b[0;34m)\u001b[0m\u001b[0;34m\u001b[0m\u001b[0;34m\u001b[0m\u001b[0m\n\u001b[0m\u001b[1;32m    483\u001b[0m \u001b[0;34m\u001b[0m\u001b[0m\n\u001b[1;32m    484\u001b[0m     \u001b[0;31m# ==== Check the render method and the declared render modes ====\u001b[0m\u001b[0;34m\u001b[0m\u001b[0;34m\u001b[0m\u001b[0m\n",
            "\u001b[0;32m/usr/local/lib/python3.11/dist-packages/stable_baselines3/common/env_checker.py\u001b[0m in \u001b[0;36m_check_returned_values\u001b[0;34m(env, observation_space, action_space)\u001b[0m\n\u001b[1;32m    347\u001b[0m \u001b[0;34m\u001b[0m\u001b[0m\n\u001b[1;32m    348\u001b[0m     \u001b[0;31m# We also allow int because the reward will be cast to float\u001b[0m\u001b[0;34m\u001b[0m\u001b[0;34m\u001b[0m\u001b[0m\n\u001b[0;32m--> 349\u001b[0;31m     \u001b[0;32massert\u001b[0m \u001b[0misinstance\u001b[0m\u001b[0;34m(\u001b[0m\u001b[0mreward\u001b[0m\u001b[0;34m,\u001b[0m \u001b[0;34m(\u001b[0m\u001b[0mfloat\u001b[0m\u001b[0;34m,\u001b[0m \u001b[0mint\u001b[0m\u001b[0;34m)\u001b[0m\u001b[0;34m)\u001b[0m\u001b[0;34m,\u001b[0m \u001b[0;34m\"The reward returned by `step()` must be a float\"\u001b[0m\u001b[0;34m\u001b[0m\u001b[0;34m\u001b[0m\u001b[0m\n\u001b[0m\u001b[1;32m    350\u001b[0m     \u001b[0;32massert\u001b[0m \u001b[0misinstance\u001b[0m\u001b[0;34m(\u001b[0m\u001b[0mterminated\u001b[0m\u001b[0;34m,\u001b[0m \u001b[0mbool\u001b[0m\u001b[0;34m)\u001b[0m\u001b[0;34m,\u001b[0m \u001b[0;34m\"The `terminated` signal must be a boolean\"\u001b[0m\u001b[0;34m\u001b[0m\u001b[0;34m\u001b[0m\u001b[0m\n\u001b[1;32m    351\u001b[0m     \u001b[0;32massert\u001b[0m \u001b[0misinstance\u001b[0m\u001b[0;34m(\u001b[0m\u001b[0mtruncated\u001b[0m\u001b[0;34m,\u001b[0m \u001b[0mbool\u001b[0m\u001b[0;34m)\u001b[0m\u001b[0;34m,\u001b[0m \u001b[0;34m\"The `truncated` signal must be a boolean\"\u001b[0m\u001b[0;34m\u001b[0m\u001b[0;34m\u001b[0m\u001b[0m\n",
            "\u001b[0;31mAssertionError\u001b[0m: The reward returned by `step()` must be a float"
          ]
        }
      ],
      "source": [
        "# 安裝必要的庫\n",
        "!pip install stable-baselines3\n",
        "!pip install gymnasium\n",
        "!pip install gymnasium[classic_control]\n",
        "!pip install backtrader\n",
        "!pip install yfinance\n",
        "!pip install matplotlib\n",
        "\n",
        "# 導入庫\n",
        "import pandas as pd\n",
        "import numpy as np\n",
        "import matplotlib.pyplot as plt\n",
        "import yfinance as yf\n",
        "import backtrader as bt\n",
        "from stable_baselines3 import PPO\n",
        "from stable_baselines3.common.vec_env import DummyVecEnv\n",
        "from stable_baselines3.common import env_checker\n",
        "from stable_baselines3.common.policies import ActorCriticCnnPolicy, ActorCriticPolicy\n",
        "from stable_baselines3.common.torch_layers import BaseFeaturesExtractor\n",
        "import gymnasium as gym\n",
        "from gymnasium import spaces\n",
        "import torch\n",
        "import torch.nn as nn\n",
        "\n",
        "# 獲取數據\n",
        "data = yf.download('AAPL', start='2015-01-01', end='2021-01-01')\n",
        "data.reset_index(inplace=True)\n",
        "data['Date'] = pd.to_datetime(data['Date'])  # 確保 Date 列為 datetime 類型\n",
        "data = data[['Date', 'Open', 'High', 'Low', 'Close', 'Volume']]\n",
        "data.set_index('Date', inplace=True)\n",
        "\n",
        "# 數據預處理\n",
        "data['Open'] = data['Open'].astype('float32')\n",
        "data['High'] = data['High'].astype('float32')\n",
        "data['Low'] = data['Low'].astype('float32')\n",
        "data['Close'] = data['Close'].astype('float32')\n",
        "data['Volume'] = data['Volume'].astype('float32')\n",
        "\n",
        "# 定義交易環境\n",
        "class TradingEnv(gym.Env):\n",
        "    \"\"\"自訂的交易環境，用於強化學習模型訓練，代理觀察過去 15 天的數據\"\"\"\n",
        "\n",
        "    def __init__(self, data, window_size=15, cash=10000, commission=0.001):\n",
        "        super(TradingEnv, self).__init__()\n",
        "        self.data = data.reset_index()\n",
        "        self.cash = cash  # 初始現金\n",
        "        self.initial_cash = cash  # 紀錄初始現金\n",
        "        self.commission = commission  # 交易手續費\n",
        "        self.window_size = window_size  # 觀察窗口大小\n",
        "        self.current_step = self.window_size  # 開始位置\n",
        "\n",
        "        # 定義觀測空間和行動空間\n",
        "        self.observation_space = spaces.Box(\n",
        "            low=-np.inf, high=np.inf, shape=(self.window_size, 5), dtype=np.float32\n",
        "        )\n",
        "        self.action_space = spaces.Discrete(3)  # 0: 持有, 1: 買入, 2: 賣出\n",
        "\n",
        "        # 初始化帳戶資訊\n",
        "        self.position = 0  # 持有的股票數量\n",
        "        self.net_worth = self.cash  # 資產淨值\n",
        "        self.prev_net_worth = self.cash  # 前一步的資產淨值\n",
        "\n",
        "        # 紀錄交易訊號\n",
        "        self.trades = []\n",
        "\n",
        "    def _get_obs(self):\n",
        "        \"\"\"獲取當前的觀測值\"\"\"\n",
        "        obs = self.data.loc[self.current_step - self.window_size:self.current_step - 1, ['Open', 'High', 'Low', 'Close', 'Volume']].values\n",
        "        return obs\n",
        "\n",
        "    def reset(self, *, seed=None, options=None):\n",
        "        \"\"\"重置環境到初始狀態\"\"\"\n",
        "        super().reset(seed=seed)\n",
        "        self.current_step = self.window_size\n",
        "        self.position = 0\n",
        "        self.cash = self.initial_cash\n",
        "        self.net_worth = self.cash\n",
        "        self.prev_net_worth = self.cash\n",
        "        self.trades = []  # 重置交易紀錄\n",
        "        obs = self._get_obs()\n",
        "        info = {}\n",
        "        return obs, info\n",
        "\n",
        "    def step(self, action):\n",
        "        \"\"\"執行一個行動，並返回新的狀態和獎勵\"\"\"\n",
        "        current_price = self.data.loc[self.current_step, 'Close']\n",
        "\n",
        "        # 記錄交易訊號\n",
        "        date = self.data.loc[self.current_step, 'Date']\n",
        "        self.trades.append({'Date': date, 'Action': action})\n",
        "\n",
        "        # 計算交易手續費\n",
        "        commission = 0\n",
        "\n",
        "        if action == 1:  # 買入\n",
        "            # 計算可買入的最大股數\n",
        "            max_shares = int(self.cash / (current_price * (1 + self.commission)))\n",
        "            if max_shares > 0:\n",
        "                # 更新帳戶餘額和持倉\n",
        "                cost = max_shares * current_price * (1 + self.commission)\n",
        "                self.cash -= cost\n",
        "                self.position += max_shares\n",
        "                commission = cost * self.commission\n",
        "        elif action == 2:  # 賣出\n",
        "            if self.position > 0:\n",
        "                # 更新帳戶餘額和持倉\n",
        "                revenue = self.position * current_price * (1 - self.commission)\n",
        "                self.cash += revenue\n",
        "                commission = self.position * current_price * self.commission\n",
        "                self.position = 0\n",
        "        # action == 0 表示持有，不執行任何操作\n",
        "\n",
        "        self.current_step += 1\n",
        "\n",
        "        # 更新資產淨值\n",
        "        self.net_worth = self.cash + self.position * current_price\n",
        "\n",
        "        # 計算獎勵\n",
        "        reward = self.net_worth - self.prev_net_worth - commission\n",
        "        self.prev_net_worth = self.net_worth\n",
        "\n",
        "        # 判斷是否終止\n",
        "        if self.current_step >= len(self.data):\n",
        "            terminated = True\n",
        "        else:\n",
        "            terminated = False\n",
        "        truncated = False\n",
        "\n",
        "        obs = self._get_obs()\n",
        "        info = {}\n",
        "\n",
        "        return obs, reward, terminated, truncated, info\n",
        "\n",
        "    def render(self):\n",
        "        \"\"\"渲染環境（此處未實作）\"\"\"\n",
        "        pass\n",
        "\n",
        "# 定義自訂的特徵提取器\n",
        "class CustomLSTMFeatureExtractor(BaseFeaturesExtractor):\n",
        "    \"\"\"\n",
        "    自訂的特徵提取器，使用 LSTM 處理時間序列數據\n",
        "    \"\"\"\n",
        "\n",
        "    def __init__(self, observation_space: spaces.Box, features_dim: int = 128):\n",
        "        super(CustomLSTMFeatureExtractor, self).__init__(observation_space, features_dim)\n",
        "        self.lstm = nn.LSTM(input_size=5, hidden_size=features_dim, batch_first=True)\n",
        "\n",
        "    def forward(self, observations: torch.Tensor) -> torch.Tensor:\n",
        "        # observations shape: (batch_size, window_size, 5)\n",
        "        lstm_output, (h_n, c_n) = self.lstm(observations)\n",
        "        # 我們取最後一個時間步的輸出作為特徵\n",
        "        return h_n[-1]\n",
        "\n",
        "# 創建環境實例\n",
        "env = TradingEnv(data)\n",
        "\n",
        "# 檢查環境\n",
        "env_checker.check_env(env)\n",
        "\n",
        "# 包裝環境\n",
        "env = DummyVecEnv([lambda: env])\n",
        "\n",
        "# 定義政策網絡\n",
        "policy_kwargs = dict(\n",
        "    features_extractor_class=CustomLSTMFeatureExtractor,\n",
        "    features_extractor_kwargs=dict(features_dim=128),\n",
        ")\n",
        "\n",
        "# 訓練模型\n",
        "model = PPO('MlpPolicy', env, policy_kwargs=policy_kwargs, verbose=1)\n",
        "model.learn(total_timesteps=15000)\n",
        "\n",
        "# 測試模型並收集交易訊號\n",
        "env.envs[0].reset()\n",
        "for i in range(env.envs[0].window_size, len(data)):\n",
        "    obs = env.envs[0]._get_obs()\n",
        "    obs = obs[np.newaxis, :]  # 添加 batch 維度\n",
        "    action, _states = model.predict(obs, deterministic=True)\n",
        "    obs, rewards, dones, truncated, info = env.envs[0].step(action[0])\n",
        "    if dones:\n",
        "        break\n",
        "\n",
        "# 從環境中獲取交易紀錄\n",
        "trades = pd.DataFrame(env.envs[0].trades)\n",
        "\n",
        "# 將交易紀錄與原始數據合併\n",
        "data.reset_index(inplace=True)\n",
        "merged_data = pd.merge(data, trades, on='Date', how='left')\n",
        "merged_data['Action'].fillna(0, inplace=True)\n",
        "\n",
        "# 確保 Date 列為 datetime 類型\n",
        "merged_data['Date'] = pd.to_datetime(merged_data['Date'])\n",
        "\n",
        "# 在 Backtrader 中顯示買賣點\n",
        "class RLStrategy(bt.Strategy):\n",
        "    \"\"\"自訂的策略，用於在圖表上顯示買賣點\"\"\"\n",
        "\n",
        "    def __init__(self):\n",
        "        self.dataclose = self.datas[0].close\n",
        "\n",
        "    def next(self):\n",
        "        # 根據交易紀錄執行買賣\n",
        "        idx = len(self) - 1  # 當前索引\n",
        "        action = merged_data.loc[idx, 'Action']\n",
        "        if action == 1 and self.position.size == 0:\n",
        "            # 買入\n",
        "            self.buy(size=100)\n",
        "        elif action == 2 and self.position.size > 0:\n",
        "            # 賣出\n",
        "            self.sell(size=self.position.size)\n",
        "\n",
        "# 設置 Backtrader\n",
        "cerebro = bt.Cerebro()\n",
        "# 在添加數據時，指定 datetime 列\n",
        "data_bt = bt.feeds.PandasData(\n",
        "    dataname=merged_data,\n",
        "    datetime='Date',\n",
        "    open='Open',\n",
        "    high='High',\n",
        "    low='Low',\n",
        "    close='Close',\n",
        "    volume='Volume',\n",
        "    openinterest=-1,\n",
        "    timeframe=bt.TimeFrame.Days\n",
        ")\n",
        "cerebro.adddata(data_bt)\n",
        "cerebro.addstrategy(RLStrategy)\n",
        "cerebro.broker.setcash(10000)\n",
        "cerebro.broker.setcommission(commission=0.001)\n",
        "\n",
        "print('初始資金: %.2f' % cerebro.broker.getvalue())\n",
        "cerebro.run()\n",
        "print('最終資金: %.2f' % cerebro.broker.getvalue())\n",
        "\n",
        "# 繪製圖表\n",
        "%matplotlib inline\n",
        "plt.rcParams['figure.figsize'] = [20, 16]\n",
        "plt.rcParams.update({'font.size': 12})\n",
        "img = cerebro.plot(iplot = False)\n",
        "img[0][0].savefig('backtrader_ppo_lstm.png')\n"
      ]
    },
    {
      "cell_type": "markdown",
      "source": [
        "### **十一、總結**\n",
        "\n",
        "在本教學中，我們：\n",
        "\n",
        "- **實現了基於 LSTM 的強化學習代理**，使其能夠觀察過去 15 天的市場數據，提升了對時間序列模式的捕捉能力。\n",
        "- **自訂了特徵提取器**，使用 PyTorch 中的 LSTM 模組，處理高維度的觀測值。\n",
        "- **結合 Stable Baselines 3 和 Backtrader**，完成了模型的訓練和回測，並在圖表上顯示了買賣點。\n",
        "\n",
        "---\n",
        "\n",
        "### **作業**\n",
        "\n",
        "1. **調整觀察窗口大小**：嘗試使用不同的 `window_size`，例如 5 天、30 天，觀察對模型性能的影響。\n",
        "2. **添加技術指標**：在觀測值中加入技術指標，例如移動平均線、RSI 等，進一步提升模型的決策能力。\n",
        "3. **優化模型超參數**：調整 LSTM 的隱藏層大小、訓練步數、學習率等超參數，尋找最佳配置。\n",
        "4. **嘗試不同的強化學習算法**：替換為 DDPG、SAC 等算法，進行性能比較。\n",
        "5. **嘗試Transformer**: 替換 LSTM 成為 Transformer\n",
        "\n",
        "---\n",
        "\n",
        "### **提示**\n",
        "\n",
        "- **數據預處理**：確保數據沒有缺失值或異常值，必要時進行清洗。\n",
        "- **模型穩定性**：為了獲得穩定的結果，可以多次訓練模型，並計算平均績效。\n",
        "- **觀測值標準化**：考慮對觀測值進行標準化或正規化，可能有助於模型的訓練。\n",
        "\n",
        "---\n",
        "\n",
        "### **注意事項**\n",
        "\n",
        "- **風險提示**：金融市場具有高度的不確定性，模型的結果僅供參考，不應作為實際投資決策的唯一依據。\n",
        "- **合規要求**：遵守相關法律法規和市場規則，合法合規地進行交易。\n",
        "- **倫理考慮**：確保模型的設計和應用符合道德標準，不得進行市場操縱等不當行為。\n",
        "\n",
        "---\n",
        "\n",
        "*希望通過本教學，您能夠深入理解如何使用 LSTM 強化學習方法進行量化交易策略的開發，並掌握 Stable Baselines 3 和 Backtrader 的實際應用技巧。*"
      ],
      "metadata": {
        "id": "L5dhScD0OQLX"
      }
    }
  ]
}